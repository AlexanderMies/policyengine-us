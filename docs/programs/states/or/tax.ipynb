{
 "cells": [
  {
   "cell_type": "markdown",
   "metadata": {},
   "source": [
    "# Oregon state income tax\n",
    "\n",
    "This notebook shows how Oregon's state income tax, including credits, operates holistically.\n",
    "\n",
    "## Examples"
   ]
  },
  {
   "cell_type": "code",
   "execution_count": null,
   "metadata": {},
   "outputs": [],
   "source": [
    "from openfisca_us import IndividualSim\n",
    "import pandas as pd\n",
    "import plotly.express as px\n",
    "\n",
    "LIGHT_GRAY = \"#F5F5F5\"\n",
    "GRAY = \"#BDBDBD\"\n",
    "BLUE = \"#5091cc\"\n",
    "LIGHT_BLUE = \"lightblue\"\n",
    "DARK_BLUE = \"darkblue\"\n",
    "\n",
    "\n",
    "def make_tax(adults, children):\n",
    "    sim = IndividualSim(year=2022)\n",
    "    sim.add_person(name=\"head\", age=25)\n",
    "    members = [\"head\"]\n",
    "    if adults == 2:\n",
    "        sim.add_person(name=\"spouse\", age=25)\n",
    "        members += [\"spouse\"]\n",
    "    for i in range(children):\n",
    "        child = \"child{}\".format(i)\n",
    "        sim.add_person(name=child, age=6)\n",
    "        members += [child]\n",
    "    sim.add_tax_unit(name=\"tax_unit\", members=members, premium_tax_credit=0)\n",
    "    sim.add_household(name=\"household\", members=members, state_code=\"OR\")\n",
    "    sim.vary(\"employment_income\", max=100_000, step=100)\n",
    "    employment_income = sim.calc(\"employment_income\")[0]\n",
    "    state_income_tax = sim.calc(\"state_income_tax\")[0].round()\n",
    "    mtr = sim.deriv(\"state_income_tax\", \"employment_income\", wrt_target=\"head\")\n",
    "    return pd.DataFrame(\n",
    "        dict(\n",
    "            employment_income=employment_income,\n",
    "            state_income_tax=state_income_tax,\n",
    "            mtr=mtr,\n",
    "            adults=adults,\n",
    "            children=str(children),\n",
    "        )\n",
    "    )\n",
    "\n",
    "\n",
    "# Make a table of state taxes for different numbers of adults and children.\n",
    "l = []\n",
    "for adults in range(1, 3):\n",
    "    for children in range(0, 4):\n",
    "        l.append(make_tax(adults, children))\n",
    "\n",
    "df = pd.concat(l)\n",
    "\n",
    "LABELS = dict(\n",
    "    employment_income=\"Employment income\",\n",
    "    state_income_tax=\"Oregon tax\",\n",
    "    mtr=\"Marginal tax rate\",\n",
    "    adults=\"Adults\",\n",
    "    children=\"Children\",\n",
    ")\n",
    "\n",
    "COLOR_MAP = {\"0\": GRAY, \"1\": LIGHT_BLUE, \"2\": BLUE, \"3\": DARK_BLUE}\n",
    "\n",
    "fig = px.line(\n",
    "    df,\n",
    "    \"employment_income\",\n",
    "    \"state_income_tax\",\n",
    "    color=\"children\",\n",
    "    animation_frame=\"adults\",\n",
    "    labels=LABELS,\n",
    "    title=\"Oregon state income tax\",\n",
    "    color_discrete_map=COLOR_MAP,\n",
    ")\n",
    "fig.update_layout(\n",
    "    xaxis_tickformat=\"$,\",\n",
    "    yaxis_tickformat=\"$,\",\n",
    "    plot_bgcolor=\"white\",\n",
    "    xaxis_gridcolor=LIGHT_GRAY,\n",
    "    yaxis_gridcolor=LIGHT_GRAY,\n",
    ")\n",
    "fig.show()"
   ]
  },
  {
   "cell_type": "markdown",
   "metadata": {},
   "source": [
    "Total marginal tax rates range from -20.3% to +15.3%, excluding cliffs."
   ]
  },
  {
   "cell_type": "code",
   "execution_count": null,
   "metadata": {},
   "outputs": [],
   "source": [
    "fig = px.line(\n",
    "    df,\n",
    "    \"employment_income\",\n",
    "    \"mtr\",\n",
    "    color=\"children\",\n",
    "    animation_frame=\"adults\",\n",
    "    labels=LABELS,\n",
    "    title=\"Marginal tax rate for a New York household\",\n",
    "    color_discrete_map=COLOR_MAP,\n",
    ")\n",
    "fig.update_layout(\n",
    "    xaxis_tickformat=\"$,\",\n",
    "    yaxis_tickformat=\".1%\",\n",
    "    yaxis_range=[-0.2, 0.2],\n",
    "    plot_bgcolor=\"white\",\n",
    "    xaxis_gridcolor=LIGHT_GRAY,\n",
    "    yaxis_gridcolor=LIGHT_GRAY,\n",
    ")\n",
    "fig.show()"
   ]
  }
 ],
 "metadata": {
  "kernelspec": {
   "display_name": "Python 3.7.13 ('base')",
   "language": "python",
   "name": "python3"
  },
  "language_info": {
   "codemirror_mode": {
    "name": "ipython",
    "version": 3
   },
   "file_extension": ".py",
   "mimetype": "text/x-python",
   "name": "python",
   "nbconvert_exporter": "python",
   "pygments_lexer": "ipython3",
   "version": "3.7.13"
  },
  "vscode": {
   "interpreter": {
    "hash": "fa7b44c20f551fada78e697b7e375da3e972243133650da693735b03c3a024ae"
   }
  }
 },
 "nbformat": 4,
 "nbformat_minor": 4
}
