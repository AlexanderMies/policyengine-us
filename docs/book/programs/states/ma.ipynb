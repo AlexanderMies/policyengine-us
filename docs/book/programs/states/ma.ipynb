{
 "cells": [
  {
   "cell_type": "markdown",
   "metadata": {},
   "source": [
    "# Massachusetts tax and benefit system\n",
    "\n",
    "This notebook shows how the state and federal tax and benefit system affects Massachusetts residents holistically.\n",
    "\n",
    "## Examples\n",
    "\n",
    "Consider a set of Massachusetts family types, each with \\$1,000 monthly rent and \\$50 monthly broadband costs, and varying in terms of marital status and number of children.\n",
    "Their net income---after state and federal taxes and benefits modeled by OpenFisca US---is shown in the graph below.\n",
    "\n",
    "*The cliff is due to Massachusetts' emergency SNAP allotment, which entitles SNAP-eligible households to the maximum benefit for their household size; this also affects other benefits through categorical eligibility.*"
   ]
  },
  {
   "cell_type": "code",
   "execution_count": null,
   "metadata": {},
   "outputs": [],
   "source": [
    "from openfisca_us import IndividualSim\n",
    "import pandas as pd\n",
    "import plotly.express as px\n",
    "\n",
    "LIGHT_GRAY = \"#F5F5F5\"\n",
    "GRAY = \"#BDBDBD\"\n",
    "BLUE = \"#5091cc\"\n",
    "LIGHT_BLUE = \"lightblue\"\n",
    "DARK_BLUE = \"darkblue\"\n",
    "\n",
    "\n",
    "def make_tax(adults, children):\n",
    "    sim = IndividualSim(year=2022)\n",
    "    sim.add_person(name=\"head\", age=25)\n",
    "    members = [\"head\"]\n",
    "    if adults == 2:\n",
    "        sim.add_person(name=\"spouse\", age=25)\n",
    "        members += [\"spouse\"]\n",
    "    for i in range(children):\n",
    "        child = \"child{}\".format(i)\n",
    "        sim.add_person(name=child, age=6)\n",
    "        members += [child]\n",
    "    sim.add_tax_unit(name=\"tax_unit\", members=members)\n",
    "    # $1,000 monthly rent, $50 monthly broadband.\n",
    "    sim.add_spm_unit(\n",
    "        name=\"spm_unit\", members=members, rent=12_000, broadband_cost=600\n",
    "    )\n",
    "    sim.add_household(name=\"household\", members=members, state_code=\"MA\")\n",
    "    sim.vary(\"employment_income\", max=100_000, step=100)\n",
    "    employment_income = sim.calc(\"employment_income\")[0]\n",
    "    spm_unit_net_income = sim.calc(\"spm_unit_net_income\")[0].round()\n",
    "    mtr = 1 - sim.deriv(\n",
    "        \"spm_unit_net_income\", \"employment_income\", wrt_target=\"head\"\n",
    "    )\n",
    "    return pd.DataFrame(\n",
    "        dict(\n",
    "            employment_income=employment_income,\n",
    "            spm_unit_net_income=spm_unit_net_income,\n",
    "            mtr=mtr,\n",
    "            adults=adults,\n",
    "            children=str(children),\n",
    "        )\n",
    "    )\n",
    "\n",
    "\n",
    "# Make a table of state taxes for different numbers of adults and children.\n",
    "l = []\n",
    "for adults in range(1, 3):\n",
    "    for children in range(0, 4):\n",
    "        l.append(make_tax(adults, children))\n",
    "\n",
    "df = pd.concat(l)\n",
    "\n",
    "LABELS = dict(\n",
    "    employment_income=\"Employment income\",\n",
    "    spm_unit_net_income=\"Net income\",\n",
    "    mtr=\"Marginal tax rate\",\n",
    "    adults=\"Adults\",\n",
    "    children=\"Children\",\n",
    ")\n",
    "\n",
    "COLOR_MAP = {\"0\": GRAY, \"1\": LIGHT_BLUE, \"2\": BLUE, \"3\": DARK_BLUE}\n",
    "\n",
    "fig = px.line(\n",
    "    df,\n",
    "    \"employment_income\",\n",
    "    \"spm_unit_net_income\",\n",
    "    color=\"children\",\n",
    "    animation_frame=\"adults\",\n",
    "    labels=LABELS,\n",
    "    title=\"Net income for a Massachusetts household\",\n",
    "    color_discrete_map=COLOR_MAP,\n",
    ")\n",
    "fig.update_layout(\n",
    "    xaxis_tickformat=\"$,\",\n",
    "    yaxis_tickformat=\"$,\",\n",
    "    plot_bgcolor=\"white\",\n",
    "    xaxis_gridcolor=LIGHT_GRAY,\n",
    "    yaxis_gridcolor=LIGHT_GRAY,\n",
    ")\n",
    "fig.show()\n"
   ]
  },
  {
   "cell_type": "markdown",
   "metadata": {},
   "source": [
    "Total marginal tax rates range from below -50% to above 50%."
   ]
  },
  {
   "cell_type": "code",
   "execution_count": null,
   "metadata": {},
   "outputs": [
    {
     "ename": "",
     "evalue": "",
     "output_type": "error",
     "traceback": [
      "\u001b[1;31mRunning cells with 'Python 3.8.9 64-bit' requires ipykernel package.\n",
      "Run the following command to install 'ipykernel' into the Python environment. \n",
      "Command: '/usr/bin/python3 -m pip install ipykernel -U --user --force-reinstall'"
     ]
    }
   ],
   "source": [
    "fig = px.line(\n",
    "    df,\n",
    "    \"employment_income\",\n",
    "    \"mtr\",\n",
    "    color=\"children\",\n",
    "    animation_frame=\"adults\",\n",
    "    labels=LABELS,\n",
    "    title=\"Marginal tax rate for a Massachusetts household\",\n",
    "    color_discrete_map=COLOR_MAP,\n",
    ")\n",
    "fig.update_layout(\n",
    "    xaxis_tickformat=\"$,\",\n",
    "    yaxis_tickformat=\".1%\",\n",
    "    yaxis_range=[-1, 1],\n",
    "    plot_bgcolor=\"white\",\n",
    "    xaxis_gridcolor=LIGHT_GRAY,\n",
    "    yaxis_gridcolor=LIGHT_GRAY,\n",
    ")\n",
    "fig.show()\n"
   ]
  }
 ],
 "metadata": {
  "interpreter": {
   "hash": "8dfc7b25af29ff50af05ad7ef5344155df419318e539ca710572e6dd4f9023a3"
  },
  "kernelspec": {
   "display_name": "Python 3 (ipykernel)",
   "language": "python",
   "name": "python3"
  },
  "language_info": {
   "codemirror_mode": {
    "name": "ipython",
    "version": 3
   },
   "file_extension": ".py",
   "mimetype": "text/x-python",
   "name": "python",
   "nbconvert_exporter": "python",
   "pygments_lexer": "ipython3",
   "version": "3.7.11"
  }
 },
 "nbformat": 4,
 "nbformat_minor": 4
}
