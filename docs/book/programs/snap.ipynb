{
 "cells": [
  {
   "cell_type": "markdown",
   "metadata": {},
   "source": [
    "# SNAP\n",
    "\n",
    "The Supplemental Nutrition Assistance Program (SNAP) is a program that provides food assistance to low-income families.\n",
    "Eligibility depends on household size, state, and income, before and after a series of deductions involving earnings and various costs such as shelter and childcare.\n",
    "\n",
    "## Examples\n",
    "\n",
    "### How earnings affect a one-person household's SNAP benefits\n",
    "\n",
    "Consider a single person household in California with \\$1,000 monthly earned income and \\$500 monthly rent.\n",
    "They would be eligible for \\$69 per month in SNAP benefits."
   ]
  },
  {
   "cell_type": "code",
   "execution_count": 1,
   "metadata": {},
   "outputs": [
    {
     "data": {
      "text/plain": [
       "array([69.149994], dtype=float32)"
      ]
     },
     "execution_count": 1,
     "metadata": {},
     "output_type": "execute_result"
    }
   ],
   "source": [
    "from openfisca_us import IndividualSim\n",
    "import pandas as pd\n",
    "import plotly.express as px\n",
    "\n",
    "sim = IndividualSim(year=2022)\n",
    "sim.add_person(name=\"person\", market_income=1000 * 12)\n",
    "sim.add_spm_unit(name=\"spm_unit\", members=[\"person\"], housing_cost=500 * 12)\n",
    "\n",
    "sim.calc(\"snap\") / 12"
   ]
  },
  {
   "cell_type": "markdown",
   "metadata": {},
   "source": [
    "What if their earnings change? They receive the maximum benefit of \\$2,448 per year (\\$204 per month) until they reach \\$7,500 in annual earnings, at which point it starts phasing out until their earnings reach about \\$14,000."
   ]
  },
  {
   "cell_type": "code",
   "execution_count": 2,
   "metadata": {},
   "outputs": [
    {
     "data": {
      "application/vnd.plotly.v1+json": {
       "config": {
        "plotlyServerURL": "https://plot.ly"
       },
       "data": [
        {
         "hovertemplate": "Monthly market income=%{x}<br>Monthly SNAP benefit=%{y}<extra></extra>",
         "legendgroup": "",
         "line": {
          "color": "#636efa",
          "dash": "solid"
         },
         "marker": {
          "symbol": "circle"
         },
         "mode": "lines",
         "name": "",
         "orientation": "v",
         "showlegend": false,
         "type": "scatter",
         "x": [
          0,
          8.333333015441895,
          16.66666603088379,
          25,
          33.33333206176758,
          41.66666793823242,
          50,
          58.33333206176758,
          66.66666412353516,
          75,
          83.33333587646484,
          91.66666412353516,
          100,
          108.33333587646484,
          116.66666412353516,
          125,
          133.3333282470703,
          141.6666717529297,
          150,
          158.3333282470703,
          166.6666717529297,
          175,
          183.3333282470703,
          191.6666717529297,
          200,
          208.3333282470703,
          216.6666717529297,
          225,
          233.3333282470703,
          241.6666717529297,
          250,
          258.3333435058594,
          266.6666564941406,
          275,
          283.3333435058594,
          291.6666564941406,
          300,
          308.3333435058594,
          316.6666564941406,
          325,
          333.3333435058594,
          341.6666564941406,
          350,
          358.3333435058594,
          366.6666564941406,
          375,
          383.3333435058594,
          391.6666564941406,
          400,
          408.3333435058594,
          416.6666564941406,
          425,
          433.3333435058594,
          441.6666564941406,
          450,
          458.3333435058594,
          466.6666564941406,
          475,
          483.3333435058594,
          491.6666564941406,
          500,
          508.3333435058594,
          516.6666870117188,
          525,
          533.3333129882812,
          541.6666870117188,
          550,
          558.3333129882812,
          566.6666870117188,
          575,
          583.3333129882812,
          591.6666870117188,
          600,
          608.3333129882812,
          616.6666870117188,
          625,
          633.3333129882812,
          641.6666870117188,
          650,
          658.3333129882812,
          666.6666870117188,
          675,
          683.3333129882812,
          691.6666870117188,
          700,
          708.3333129882812,
          716.6666870117188,
          725,
          733.3333129882812,
          741.6666870117188,
          750,
          758.3333129882812,
          766.6666870117188,
          775,
          783.3333129882812,
          791.6666870117188,
          800,
          808.3333129882812,
          816.6666870117188,
          825,
          833.3333129882812,
          841.6666870117188,
          850,
          858.3333129882812,
          866.6666870117188,
          875,
          883.3333129882812,
          891.6666870117188,
          900,
          908.3333129882812,
          916.6666870117188,
          925,
          933.3333129882812,
          941.6666870117188,
          950,
          958.3333129882812,
          966.6666870117188,
          975,
          983.3333129882812,
          991.6666870117188,
          1000,
          1008.3333129882812,
          1016.6666870117188,
          1025,
          1033.3333740234375,
          1041.6666259765625,
          1050,
          1058.3333740234375,
          1066.6666259765625,
          1075,
          1083.3333740234375,
          1091.6666259765625,
          1100,
          1108.3333740234375,
          1116.6666259765625,
          1125,
          1133.3333740234375,
          1141.6666259765625,
          1150,
          1158.3333740234375,
          1166.6666259765625,
          1175,
          1183.3333740234375,
          1191.6666259765625,
          1200,
          1208.3333740234375,
          1216.6666259765625,
          1225,
          1233.3333740234375,
          1241.6666259765625,
          1250,
          1258.3333740234375,
          1266.6666259765625,
          1275,
          1283.3333740234375,
          1291.6666259765625,
          1300,
          1308.3333740234375,
          1316.6666259765625,
          1325,
          1333.3333740234375,
          1341.6666259765625,
          1350,
          1358.3333740234375,
          1366.6666259765625,
          1375,
          1383.3333740234375,
          1391.6666259765625,
          1400,
          1408.3333740234375,
          1416.6666259765625,
          1425,
          1433.3333740234375,
          1441.6666259765625,
          1450,
          1458.3333740234375,
          1466.6666259765625,
          1475,
          1483.3333740234375,
          1491.6666259765625,
          1500,
          1508.3333740234375,
          1516.6666259765625,
          1525,
          1533.3333740234375,
          1541.6666259765625,
          1550,
          1558.3333740234375,
          1566.6666259765625,
          1575,
          1583.3333740234375,
          1591.6666259765625,
          1600,
          1608.3333740234375,
          1616.6666259765625,
          1625,
          1633.3333740234375,
          1641.6666259765625,
          1650,
          1658.3333740234375,
          1666.6666259765625,
          1675,
          1683.3333740234375,
          1691.6666259765625,
          1700,
          1708.3333740234375,
          1716.6666259765625,
          1725,
          1733.3333740234375,
          1741.6666259765625,
          1750,
          1758.3333740234375,
          1766.6666259765625,
          1775,
          1783.3333740234375,
          1791.6666259765625,
          1800,
          1808.3333740234375,
          1816.6666259765625,
          1825,
          1833.3333740234375,
          1841.6666259765625,
          1850,
          1858.3333740234375,
          1866.6666259765625,
          1875,
          1883.3333740234375,
          1891.6666259765625,
          1900,
          1908.3333740234375,
          1916.6666259765625,
          1925,
          1933.3333740234375,
          1941.6666259765625,
          1950,
          1958.3333740234375,
          1966.6666259765625,
          1975,
          1983.3333740234375,
          1991.6666259765625,
          2000
         ],
         "xaxis": "x",
         "y": [
          204,
          204,
          204,
          204,
          204,
          204,
          204,
          204,
          204,
          204,
          204,
          204,
          204,
          204,
          204,
          204,
          204,
          204,
          204,
          204,
          204,
          204,
          204,
          204,
          204,
          204,
          204,
          204,
          204,
          204,
          204,
          204,
          204,
          204,
          204,
          204,
          204,
          204,
          204,
          204,
          204,
          204,
          204,
          204,
          204,
          204,
          204,
          204,
          204,
          204,
          204,
          204,
          204,
          204,
          204,
          204,
          204,
          204,
          204,
          204,
          204,
          204,
          204,
          204,
          204,
          204,
          204,
          204,
          204,
          204,
          204,
          204,
          204,
          204,
          204,
          204,
          201.15000915527344,
          198.15000915527344,
          195.15000915527344,
          192.15000915527344,
          189.15000915527344,
          186.15000915527344,
          183.15000915527344,
          180.15000915527344,
          177.15000915527344,
          174.15000915527344,
          171.15000915527344,
          168.15000915527344,
          165.15000915527344,
          162.15000915527344,
          159.15000915527344,
          156.15000915527344,
          153.15000915527344,
          150.15000915527344,
          147.15000915527344,
          144.15000915527344,
          141.15000915527344,
          138.15000915527344,
          135.15000915527344,
          132.15000915527344,
          129.15000915527344,
          126.1500015258789,
          123.1500015258789,
          120.1500015258789,
          117.14999389648438,
          114.14999389648438,
          111.14999389648438,
          108.14999389648438,
          105.14999389648438,
          102.14999389648438,
          99.14999389648438,
          96.14999389648438,
          93.14999389648438,
          90.14999389648438,
          87.14999389648438,
          84.14999389648438,
          81.14999389648438,
          78.14999389648438,
          75.14999389648438,
          72.14999389648438,
          69.14999389648438,
          66.14999389648438,
          63.149993896484375,
          60.149993896484375,
          57.149993896484375,
          54.149993896484375,
          51.149993896484375,
          48.149993896484375,
          45.149993896484375,
          42.149993896484375,
          39.149993896484375,
          36.149993896484375,
          33.14998245239258,
          30.14998435974121,
          27.14998435974121,
          24.14998435974121,
          21.14998435974121,
          18.14998435974121,
          16.31999969482422,
          16.31999969482422,
          16.31999969482422,
          16.31999969482422,
          16.31999969482422,
          16.31999969482422,
          16.31999969482422,
          16.31999969482422,
          16.31999969482422,
          16.31999969482422,
          16.31999969482422,
          16.31999969482422,
          16.31999969482422,
          16.31999969482422,
          16.31999969482422,
          16.31999969482422,
          16.31999969482422,
          16.31999969482422,
          16.31999969482422,
          16.31999969482422,
          16.31999969482422,
          16.31999969482422,
          16.31999969482422,
          16.31999969482422,
          16.31999969482422,
          16.31999969482422,
          16.31999969482422,
          16.31999969482422,
          16.31999969482422,
          16.31999969482422,
          16.31999969482422,
          16.31999969482422,
          16.31999969482422,
          16.31999969482422,
          16.31999969482422,
          16.31999969482422,
          16.31999969482422,
          16.31999969482422,
          16.31999969482422,
          16.31999969482422,
          16.31999969482422,
          16.31999969482422,
          16.31999969482422,
          16.31999969482422,
          16.31999969482422,
          16.31999969482422,
          16.31999969482422,
          16.31999969482422,
          16.31999969482422,
          16.31999969482422,
          16.31999969482422,
          16.31999969482422,
          16.31999969482422,
          16.31999969482422,
          16.31999969482422,
          16.31999969482422,
          16.31999969482422,
          16.31999969482422,
          16.31999969482422,
          16.31999969482422,
          16.31999969482422,
          16.31999969482422,
          16.31999969482422,
          16.31999969482422,
          16.31999969482422,
          16.31999969482422,
          16.31999969482422,
          16.31999969482422,
          16.31999969482422,
          16.31999969482422,
          16.31999969482422,
          16.31999969482422,
          16.31999969482422,
          16.31999969482422,
          16.31999969482422,
          16.31999969482422,
          16.31999969482422,
          16.31999969482422,
          16.31999969482422,
          16.31999969482422,
          16.31999969482422,
          16.31999969482422,
          16.31999969482422,
          16.31999969482422,
          16.31999969482422,
          16.31999969482422,
          16.31999969482422,
          16.31999969482422,
          16.31999969482422,
          16.31999969482422,
          16.31999969482422,
          16.31999969482422,
          16.31999969482422,
          16.31999969482422,
          16.31999969482422,
          16.31999969482422,
          16.31999969482422,
          16.31999969482422,
          16.31999969482422,
          16.31999969482422,
          16.31999969482422,
          16.31999969482422,
          16.31999969482422
         ],
         "yaxis": "y"
        }
       ],
       "layout": {
        "autosize": true,
        "legend": {
         "tracegroupgap": 0
        },
        "template": {
         "data": {
          "bar": [
           {
            "error_x": {
             "color": "#2a3f5f"
            },
            "error_y": {
             "color": "#2a3f5f"
            },
            "marker": {
             "line": {
              "color": "#E5ECF6",
              "width": 0.5
             },
             "pattern": {
              "fillmode": "overlay",
              "size": 10,
              "solidity": 0.2
             }
            },
            "type": "bar"
           }
          ],
          "barpolar": [
           {
            "marker": {
             "line": {
              "color": "#E5ECF6",
              "width": 0.5
             },
             "pattern": {
              "fillmode": "overlay",
              "size": 10,
              "solidity": 0.2
             }
            },
            "type": "barpolar"
           }
          ],
          "carpet": [
           {
            "aaxis": {
             "endlinecolor": "#2a3f5f",
             "gridcolor": "white",
             "linecolor": "white",
             "minorgridcolor": "white",
             "startlinecolor": "#2a3f5f"
            },
            "baxis": {
             "endlinecolor": "#2a3f5f",
             "gridcolor": "white",
             "linecolor": "white",
             "minorgridcolor": "white",
             "startlinecolor": "#2a3f5f"
            },
            "type": "carpet"
           }
          ],
          "choropleth": [
           {
            "colorbar": {
             "outlinewidth": 0,
             "ticks": ""
            },
            "type": "choropleth"
           }
          ],
          "contour": [
           {
            "colorbar": {
             "outlinewidth": 0,
             "ticks": ""
            },
            "colorscale": [
             [
              0,
              "#0d0887"
             ],
             [
              0.1111111111111111,
              "#46039f"
             ],
             [
              0.2222222222222222,
              "#7201a8"
             ],
             [
              0.3333333333333333,
              "#9c179e"
             ],
             [
              0.4444444444444444,
              "#bd3786"
             ],
             [
              0.5555555555555556,
              "#d8576b"
             ],
             [
              0.6666666666666666,
              "#ed7953"
             ],
             [
              0.7777777777777778,
              "#fb9f3a"
             ],
             [
              0.8888888888888888,
              "#fdca26"
             ],
             [
              1,
              "#f0f921"
             ]
            ],
            "type": "contour"
           }
          ],
          "contourcarpet": [
           {
            "colorbar": {
             "outlinewidth": 0,
             "ticks": ""
            },
            "type": "contourcarpet"
           }
          ],
          "heatmap": [
           {
            "colorbar": {
             "outlinewidth": 0,
             "ticks": ""
            },
            "colorscale": [
             [
              0,
              "#0d0887"
             ],
             [
              0.1111111111111111,
              "#46039f"
             ],
             [
              0.2222222222222222,
              "#7201a8"
             ],
             [
              0.3333333333333333,
              "#9c179e"
             ],
             [
              0.4444444444444444,
              "#bd3786"
             ],
             [
              0.5555555555555556,
              "#d8576b"
             ],
             [
              0.6666666666666666,
              "#ed7953"
             ],
             [
              0.7777777777777778,
              "#fb9f3a"
             ],
             [
              0.8888888888888888,
              "#fdca26"
             ],
             [
              1,
              "#f0f921"
             ]
            ],
            "type": "heatmap"
           }
          ],
          "heatmapgl": [
           {
            "colorbar": {
             "outlinewidth": 0,
             "ticks": ""
            },
            "colorscale": [
             [
              0,
              "#0d0887"
             ],
             [
              0.1111111111111111,
              "#46039f"
             ],
             [
              0.2222222222222222,
              "#7201a8"
             ],
             [
              0.3333333333333333,
              "#9c179e"
             ],
             [
              0.4444444444444444,
              "#bd3786"
             ],
             [
              0.5555555555555556,
              "#d8576b"
             ],
             [
              0.6666666666666666,
              "#ed7953"
             ],
             [
              0.7777777777777778,
              "#fb9f3a"
             ],
             [
              0.8888888888888888,
              "#fdca26"
             ],
             [
              1,
              "#f0f921"
             ]
            ],
            "type": "heatmapgl"
           }
          ],
          "histogram": [
           {
            "marker": {
             "pattern": {
              "fillmode": "overlay",
              "size": 10,
              "solidity": 0.2
             }
            },
            "type": "histogram"
           }
          ],
          "histogram2d": [
           {
            "colorbar": {
             "outlinewidth": 0,
             "ticks": ""
            },
            "colorscale": [
             [
              0,
              "#0d0887"
             ],
             [
              0.1111111111111111,
              "#46039f"
             ],
             [
              0.2222222222222222,
              "#7201a8"
             ],
             [
              0.3333333333333333,
              "#9c179e"
             ],
             [
              0.4444444444444444,
              "#bd3786"
             ],
             [
              0.5555555555555556,
              "#d8576b"
             ],
             [
              0.6666666666666666,
              "#ed7953"
             ],
             [
              0.7777777777777778,
              "#fb9f3a"
             ],
             [
              0.8888888888888888,
              "#fdca26"
             ],
             [
              1,
              "#f0f921"
             ]
            ],
            "type": "histogram2d"
           }
          ],
          "histogram2dcontour": [
           {
            "colorbar": {
             "outlinewidth": 0,
             "ticks": ""
            },
            "colorscale": [
             [
              0,
              "#0d0887"
             ],
             [
              0.1111111111111111,
              "#46039f"
             ],
             [
              0.2222222222222222,
              "#7201a8"
             ],
             [
              0.3333333333333333,
              "#9c179e"
             ],
             [
              0.4444444444444444,
              "#bd3786"
             ],
             [
              0.5555555555555556,
              "#d8576b"
             ],
             [
              0.6666666666666666,
              "#ed7953"
             ],
             [
              0.7777777777777778,
              "#fb9f3a"
             ],
             [
              0.8888888888888888,
              "#fdca26"
             ],
             [
              1,
              "#f0f921"
             ]
            ],
            "type": "histogram2dcontour"
           }
          ],
          "mesh3d": [
           {
            "colorbar": {
             "outlinewidth": 0,
             "ticks": ""
            },
            "type": "mesh3d"
           }
          ],
          "parcoords": [
           {
            "line": {
             "colorbar": {
              "outlinewidth": 0,
              "ticks": ""
             }
            },
            "type": "parcoords"
           }
          ],
          "pie": [
           {
            "automargin": true,
            "type": "pie"
           }
          ],
          "scatter": [
           {
            "marker": {
             "colorbar": {
              "outlinewidth": 0,
              "ticks": ""
             }
            },
            "type": "scatter"
           }
          ],
          "scatter3d": [
           {
            "line": {
             "colorbar": {
              "outlinewidth": 0,
              "ticks": ""
             }
            },
            "marker": {
             "colorbar": {
              "outlinewidth": 0,
              "ticks": ""
             }
            },
            "type": "scatter3d"
           }
          ],
          "scattercarpet": [
           {
            "marker": {
             "colorbar": {
              "outlinewidth": 0,
              "ticks": ""
             }
            },
            "type": "scattercarpet"
           }
          ],
          "scattergeo": [
           {
            "marker": {
             "colorbar": {
              "outlinewidth": 0,
              "ticks": ""
             }
            },
            "type": "scattergeo"
           }
          ],
          "scattergl": [
           {
            "marker": {
             "colorbar": {
              "outlinewidth": 0,
              "ticks": ""
             }
            },
            "type": "scattergl"
           }
          ],
          "scattermapbox": [
           {
            "marker": {
             "colorbar": {
              "outlinewidth": 0,
              "ticks": ""
             }
            },
            "type": "scattermapbox"
           }
          ],
          "scatterpolar": [
           {
            "marker": {
             "colorbar": {
              "outlinewidth": 0,
              "ticks": ""
             }
            },
            "type": "scatterpolar"
           }
          ],
          "scatterpolargl": [
           {
            "marker": {
             "colorbar": {
              "outlinewidth": 0,
              "ticks": ""
             }
            },
            "type": "scatterpolargl"
           }
          ],
          "scatterternary": [
           {
            "marker": {
             "colorbar": {
              "outlinewidth": 0,
              "ticks": ""
             }
            },
            "type": "scatterternary"
           }
          ],
          "surface": [
           {
            "colorbar": {
             "outlinewidth": 0,
             "ticks": ""
            },
            "colorscale": [
             [
              0,
              "#0d0887"
             ],
             [
              0.1111111111111111,
              "#46039f"
             ],
             [
              0.2222222222222222,
              "#7201a8"
             ],
             [
              0.3333333333333333,
              "#9c179e"
             ],
             [
              0.4444444444444444,
              "#bd3786"
             ],
             [
              0.5555555555555556,
              "#d8576b"
             ],
             [
              0.6666666666666666,
              "#ed7953"
             ],
             [
              0.7777777777777778,
              "#fb9f3a"
             ],
             [
              0.8888888888888888,
              "#fdca26"
             ],
             [
              1,
              "#f0f921"
             ]
            ],
            "type": "surface"
           }
          ],
          "table": [
           {
            "cells": {
             "fill": {
              "color": "#EBF0F8"
             },
             "line": {
              "color": "white"
             }
            },
            "header": {
             "fill": {
              "color": "#C8D4E3"
             },
             "line": {
              "color": "white"
             }
            },
            "type": "table"
           }
          ]
         },
         "layout": {
          "annotationdefaults": {
           "arrowcolor": "#2a3f5f",
           "arrowhead": 0,
           "arrowwidth": 1
          },
          "autotypenumbers": "strict",
          "coloraxis": {
           "colorbar": {
            "outlinewidth": 0,
            "ticks": ""
           }
          },
          "colorscale": {
           "diverging": [
            [
             0,
             "#8e0152"
            ],
            [
             0.1,
             "#c51b7d"
            ],
            [
             0.2,
             "#de77ae"
            ],
            [
             0.3,
             "#f1b6da"
            ],
            [
             0.4,
             "#fde0ef"
            ],
            [
             0.5,
             "#f7f7f7"
            ],
            [
             0.6,
             "#e6f5d0"
            ],
            [
             0.7,
             "#b8e186"
            ],
            [
             0.8,
             "#7fbc41"
            ],
            [
             0.9,
             "#4d9221"
            ],
            [
             1,
             "#276419"
            ]
           ],
           "sequential": [
            [
             0,
             "#0d0887"
            ],
            [
             0.1111111111111111,
             "#46039f"
            ],
            [
             0.2222222222222222,
             "#7201a8"
            ],
            [
             0.3333333333333333,
             "#9c179e"
            ],
            [
             0.4444444444444444,
             "#bd3786"
            ],
            [
             0.5555555555555556,
             "#d8576b"
            ],
            [
             0.6666666666666666,
             "#ed7953"
            ],
            [
             0.7777777777777778,
             "#fb9f3a"
            ],
            [
             0.8888888888888888,
             "#fdca26"
            ],
            [
             1,
             "#f0f921"
            ]
           ],
           "sequentialminus": [
            [
             0,
             "#0d0887"
            ],
            [
             0.1111111111111111,
             "#46039f"
            ],
            [
             0.2222222222222222,
             "#7201a8"
            ],
            [
             0.3333333333333333,
             "#9c179e"
            ],
            [
             0.4444444444444444,
             "#bd3786"
            ],
            [
             0.5555555555555556,
             "#d8576b"
            ],
            [
             0.6666666666666666,
             "#ed7953"
            ],
            [
             0.7777777777777778,
             "#fb9f3a"
            ],
            [
             0.8888888888888888,
             "#fdca26"
            ],
            [
             1,
             "#f0f921"
            ]
           ]
          },
          "colorway": [
           "#636efa",
           "#EF553B",
           "#00cc96",
           "#ab63fa",
           "#FFA15A",
           "#19d3f3",
           "#FF6692",
           "#B6E880",
           "#FF97FF",
           "#FECB52"
          ],
          "font": {
           "color": "#2a3f5f"
          },
          "geo": {
           "bgcolor": "white",
           "lakecolor": "white",
           "landcolor": "#E5ECF6",
           "showlakes": true,
           "showland": true,
           "subunitcolor": "white"
          },
          "hoverlabel": {
           "align": "left"
          },
          "hovermode": "closest",
          "mapbox": {
           "style": "light"
          },
          "paper_bgcolor": "white",
          "plot_bgcolor": "#E5ECF6",
          "polar": {
           "angularaxis": {
            "gridcolor": "white",
            "linecolor": "white",
            "ticks": ""
           },
           "bgcolor": "#E5ECF6",
           "radialaxis": {
            "gridcolor": "white",
            "linecolor": "white",
            "ticks": ""
           }
          },
          "scene": {
           "xaxis": {
            "backgroundcolor": "#E5ECF6",
            "gridcolor": "white",
            "gridwidth": 2,
            "linecolor": "white",
            "showbackground": true,
            "ticks": "",
            "zerolinecolor": "white"
           },
           "yaxis": {
            "backgroundcolor": "#E5ECF6",
            "gridcolor": "white",
            "gridwidth": 2,
            "linecolor": "white",
            "showbackground": true,
            "ticks": "",
            "zerolinecolor": "white"
           },
           "zaxis": {
            "backgroundcolor": "#E5ECF6",
            "gridcolor": "white",
            "gridwidth": 2,
            "linecolor": "white",
            "showbackground": true,
            "ticks": "",
            "zerolinecolor": "white"
           }
          },
          "shapedefaults": {
           "line": {
            "color": "#2a3f5f"
           }
          },
          "ternary": {
           "aaxis": {
            "gridcolor": "white",
            "linecolor": "white",
            "ticks": ""
           },
           "baxis": {
            "gridcolor": "white",
            "linecolor": "white",
            "ticks": ""
           },
           "bgcolor": "#E5ECF6",
           "caxis": {
            "gridcolor": "white",
            "linecolor": "white",
            "ticks": ""
           }
          },
          "title": {
           "x": 0.05
          },
          "xaxis": {
           "automargin": true,
           "gridcolor": "white",
           "linecolor": "white",
           "ticks": "",
           "title": {
            "standoff": 15
           },
           "zerolinecolor": "white",
           "zerolinewidth": 2
          },
          "yaxis": {
           "automargin": true,
           "gridcolor": "white",
           "linecolor": "white",
           "ticks": "",
           "title": {
            "standoff": 15
           },
           "zerolinecolor": "white",
           "zerolinewidth": 2
          }
         }
        },
        "title": {
         "text": "SNAP benefit for a one-person household in California with $500 monthly housing costs"
        },
        "xaxis": {
         "anchor": "y",
         "autorange": true,
         "domain": [
          0,
          1
         ],
         "range": [
          0,
          2000
         ],
         "title": {
          "text": "Monthly market income"
         },
         "type": "linear"
        },
        "yaxis": {
         "anchor": "x",
         "autorange": true,
         "domain": [
          0,
          1
         ],
         "range": [
          5.893333011203342,
          214.42666668362088
         ],
         "title": {
          "text": "Monthly SNAP benefit"
         },
         "type": "linear"
        }
       }
      },
      "image/png": "[encoded data removed]"
     },
     "metadata": {},
     "output_type": "display_data"
    }
   ],
   "source": [
    "sim.vary(\"market_income\", max=2000 * 12)\n",
    "\n",
    "import plotly.express as px\n",
    "\n",
    "LABELS = dict(\n",
    "    market_income=\"Monthly market income\",\n",
    "    housing_cost=\"Monthly housing cost\",\n",
    "    snap=\"Monthly SNAP benefit\",\n",
    "    mtr=\"Marginal tax rate\",\n",
    "    housing_subsidy_rate=\"Housing subsidy rate\"\n",
    ")\n",
    "\n",
    "df = pd.DataFrame(dict(\n",
    "    market_income=sim.calc(\"market_income\")[0] / 12,\n",
    "    snap = sim.calc(\"snap\")[0] / 12,\n",
    "    mtr = -sim.deriv(\"snap\", \"market_income\")\n",
    "))\n",
    "\n",
    "px.line(df, \"market_income\", \"snap\", labels=LABELS,\n",
    "    title=\"SNAP benefit for a one-person household in California with $500 monthly housing costs\")"
   ]
  },
  {
   "cell_type": "markdown",
   "metadata": {},
   "source": [
    "We can also view their marginal tax rate from the program, revealing that SNAP phases out at 36 cents on the dollar through the phase-out region."
   ]
  },
  {
   "cell_type": "code",
   "execution_count": 3,
   "metadata": {},
   "outputs": [
    {
     "data": {
      "application/vnd.plotly.v1+json": {
       "config": {
        "plotlyServerURL": "https://plot.ly"
       },
       "data": [
        {
         "hovertemplate": "Monthly market income=%{x}<br>Marginal tax rate=%{y}<extra></extra>",
         "legendgroup": "",
         "line": {
          "color": "#636efa",
          "dash": "solid"
         },
         "marker": {
          "symbol": "circle"
         },
         "mode": "lines",
         "name": "",
         "orientation": "v",
         "showlegend": false,
         "type": "scatter",
         "x": [
          0,
          8.333333015441895,
          16.66666603088379,
          25,
          33.33333206176758,
          41.66666793823242,
          50,
          58.33333206176758,
          66.66666412353516,
          75,
          83.33333587646484,
          91.66666412353516,
          100,
          108.33333587646484,
          116.66666412353516,
          125,
          133.3333282470703,
          141.6666717529297,
          150,
          158.3333282470703,
          166.6666717529297,
          175,
          183.3333282470703,
          191.6666717529297,
          200,
          208.3333282470703,
          216.6666717529297,
          225,
          233.3333282470703,
          241.6666717529297,
          250,
          258.3333435058594,
          266.6666564941406,
          275,
          283.3333435058594,
          291.6666564941406,
          300,
          308.3333435058594,
          316.6666564941406,
          325,
          333.3333435058594,
          341.6666564941406,
          350,
          358.3333435058594,
          366.6666564941406,
          375,
          383.3333435058594,
          391.6666564941406,
          400,
          408.3333435058594,
          416.6666564941406,
          425,
          433.3333435058594,
          441.6666564941406,
          450,
          458.3333435058594,
          466.6666564941406,
          475,
          483.3333435058594,
          491.6666564941406,
          500,
          508.3333435058594,
          516.6666870117188,
          525,
          533.3333129882812,
          541.6666870117188,
          550,
          558.3333129882812,
          566.6666870117188,
          575,
          583.3333129882812,
          591.6666870117188,
          600,
          608.3333129882812,
          616.6666870117188,
          625,
          633.3333129882812,
          641.6666870117188,
          650,
          658.3333129882812,
          666.6666870117188,
          675,
          683.3333129882812,
          691.6666870117188,
          700,
          708.3333129882812,
          716.6666870117188,
          725,
          733.3333129882812,
          741.6666870117188,
          750,
          758.3333129882812,
          766.6666870117188,
          775,
          783.3333129882812,
          791.6666870117188,
          800,
          808.3333129882812,
          816.6666870117188,
          825,
          833.3333129882812,
          841.6666870117188,
          850,
          858.3333129882812,
          866.6666870117188,
          875,
          883.3333129882812,
          891.6666870117188,
          900,
          908.3333129882812,
          916.6666870117188,
          925,
          933.3333129882812,
          941.6666870117188,
          950,
          958.3333129882812,
          966.6666870117188,
          975,
          983.3333129882812,
          991.6666870117188,
          1000,
          1008.3333129882812,
          1016.6666870117188,
          1025,
          1033.3333740234375,
          1041.6666259765625,
          1050,
          1058.3333740234375,
          1066.6666259765625,
          1075,
          1083.3333740234375,
          1091.6666259765625,
          1100,
          1108.3333740234375,
          1116.6666259765625,
          1125,
          1133.3333740234375,
          1141.6666259765625,
          1150,
          1158.3333740234375,
          1166.6666259765625,
          1175,
          1183.3333740234375,
          1191.6666259765625,
          1200,
          1208.3333740234375,
          1216.6666259765625,
          1225,
          1233.3333740234375,
          1241.6666259765625,
          1250,
          1258.3333740234375,
          1266.6666259765625,
          1275,
          1283.3333740234375,
          1291.6666259765625,
          1300,
          1308.3333740234375,
          1316.6666259765625,
          1325,
          1333.3333740234375,
          1341.6666259765625,
          1350,
          1358.3333740234375,
          1366.6666259765625,
          1375,
          1383.3333740234375,
          1391.6666259765625,
          1400,
          1408.3333740234375,
          1416.6666259765625,
          1425,
          1433.3333740234375,
          1441.6666259765625,
          1450,
          1458.3333740234375,
          1466.6666259765625,
          1475,
          1483.3333740234375,
          1491.6666259765625,
          1500,
          1508.3333740234375,
          1516.6666259765625,
          1525,
          1533.3333740234375,
          1541.6666259765625,
          1550,
          1558.3333740234375,
          1566.6666259765625,
          1575,
          1583.3333740234375,
          1591.6666259765625,
          1600,
          1608.3333740234375,
          1616.6666259765625,
          1625,
          1633.3333740234375,
          1641.6666259765625,
          1650,
          1658.3333740234375,
          1666.6666259765625,
          1675,
          1683.3333740234375,
          1691.6666259765625,
          1700,
          1708.3333740234375,
          1716.6666259765625,
          1725,
          1733.3333740234375,
          1741.6666259765625,
          1750,
          1758.3333740234375,
          1766.6666259765625,
          1775,
          1783.3333740234375,
          1791.6666259765625,
          1800,
          1808.3333740234375,
          1816.6666259765625,
          1825,
          1833.3333740234375,
          1841.6666259765625,
          1850,
          1858.3333740234375,
          1866.6666259765625,
          1875,
          1883.3333740234375,
          1891.6666259765625,
          1900,
          1908.3333740234375,
          1916.6666259765625,
          1925,
          1933.3333740234375,
          1941.6666259765625,
          1950,
          1958.3333740234375,
          1966.6666259765625,
          1975,
          1983.3333740234375,
          1991.6666259765625,
          2000
         ],
         "xaxis": "x",
         "y": [
          0,
          0,
          0,
          0,
          0,
          0,
          0,
          0,
          0,
          0,
          0,
          0,
          0,
          0,
          0,
          0,
          0,
          0,
          0,
          0,
          0,
          0,
          0,
          0,
          0,
          0,
          0,
          0,
          0,
          0,
          0,
          0,
          0,
          0,
          0,
          0,
          0,
          0,
          0,
          0,
          0,
          0,
          0,
          0,
          0,
          0,
          0,
          0,
          0,
          0,
          0,
          0,
          0,
          0,
          0,
          0,
          0,
          0,
          0,
          0,
          0,
          0,
          0,
          0,
          0,
          0,
          0,
          0,
          0,
          0,
          0,
          0,
          0,
          0,
          0,
          0.34199950098991394,
          0.36000001430511475,
          0.36000001430511475,
          0.36000001430511475,
          0.36000001430511475,
          0.36000001430511475,
          0.36000001430511475,
          0.36000001430511475,
          0.36000001430511475,
          0.36000001430511475,
          0.36000001430511475,
          0.36000001430511475,
          0.36000001430511475,
          0.36000001430511475,
          0.36000001430511475,
          0.36000001430511475,
          0.36000001430511475,
          0.36000001430511475,
          0.36000001430511475,
          0.36000001430511475,
          0.36000001430511475,
          0.36000001430511475,
          0.36000001430511475,
          0.36000001430511475,
          0.36000001430511475,
          0.36000001430511475,
          0.36000001430511475,
          0.36000001430511475,
          0.36000120639801025,
          0.36000001430511475,
          0.36000001430511475,
          0.36000001430511475,
          0.36000001430511475,
          0.36000001430511475,
          0.36000001430511475,
          0.36000001430511475,
          0.36000001430511475,
          0.36000001430511475,
          0.36000001430511475,
          0.36000001430511475,
          0.36000001430511475,
          0.36000001430511475,
          0.36000001430511475,
          0.36000001430511475,
          0.36000001430511475,
          0.36000001430511475,
          0.36000001430511475,
          0.36000001430511475,
          0.36000001430511475,
          0.36000001430511475,
          0.36000001430511475,
          0.36000001430511475,
          0.36000001430511475,
          0.36000001430511475,
          0.36000001430511475,
          0.36000001430511475,
          0.36000120639801025,
          0.36000001430511475,
          0.36000001430511475,
          0.36000001430511475,
          0.36000001430511475,
          0.36000001430511475,
          0.21959808468818665,
          0,
          0,
          0,
          0,
          0,
          0,
          0,
          0,
          0,
          0,
          0,
          0,
          0,
          0,
          0,
          0,
          0,
          0,
          0,
          0,
          0,
          0,
          0,
          0,
          0,
          0,
          0,
          0,
          0,
          0,
          0,
          0,
          0,
          0,
          0,
          0,
          0,
          0,
          0,
          0,
          0,
          0,
          0,
          0,
          0,
          0,
          0,
          0,
          0,
          0,
          0,
          0,
          0,
          0,
          0,
          0,
          0,
          0,
          0,
          0,
          0,
          0,
          0,
          0,
          0,
          0,
          0,
          0,
          0,
          0,
          0,
          0,
          0,
          0,
          0,
          0,
          0,
          0,
          0,
          0,
          0,
          0,
          0,
          0,
          0,
          0,
          0,
          0,
          0,
          0,
          0,
          0,
          0,
          0,
          0,
          0,
          0,
          0,
          0,
          0,
          0,
          0,
          0
         ],
         "yaxis": "y"
        }
       ],
       "layout": {
        "autosize": true,
        "legend": {
         "tracegroupgap": 0
        },
        "template": {
         "data": {
          "bar": [
           {
            "error_x": {
             "color": "#2a3f5f"
            },
            "error_y": {
             "color": "#2a3f5f"
            },
            "marker": {
             "line": {
              "color": "#E5ECF6",
              "width": 0.5
             },
             "pattern": {
              "fillmode": "overlay",
              "size": 10,
              "solidity": 0.2
             }
            },
            "type": "bar"
           }
          ],
          "barpolar": [
           {
            "marker": {
             "line": {
              "color": "#E5ECF6",
              "width": 0.5
             },
             "pattern": {
              "fillmode": "overlay",
              "size": 10,
              "solidity": 0.2
             }
            },
            "type": "barpolar"
           }
          ],
          "carpet": [
           {
            "aaxis": {
             "endlinecolor": "#2a3f5f",
             "gridcolor": "white",
             "linecolor": "white",
             "minorgridcolor": "white",
             "startlinecolor": "#2a3f5f"
            },
            "baxis": {
             "endlinecolor": "#2a3f5f",
             "gridcolor": "white",
             "linecolor": "white",
             "minorgridcolor": "white",
             "startlinecolor": "#2a3f5f"
            },
            "type": "carpet"
           }
          ],
          "choropleth": [
           {
            "colorbar": {
             "outlinewidth": 0,
             "ticks": ""
            },
            "type": "choropleth"
           }
          ],
          "contour": [
           {
            "colorbar": {
             "outlinewidth": 0,
             "ticks": ""
            },
            "colorscale": [
             [
              0,
              "#0d0887"
             ],
             [
              0.1111111111111111,
              "#46039f"
             ],
             [
              0.2222222222222222,
              "#7201a8"
             ],
             [
              0.3333333333333333,
              "#9c179e"
             ],
             [
              0.4444444444444444,
              "#bd3786"
             ],
             [
              0.5555555555555556,
              "#d8576b"
             ],
             [
              0.6666666666666666,
              "#ed7953"
             ],
             [
              0.7777777777777778,
              "#fb9f3a"
             ],
             [
              0.8888888888888888,
              "#fdca26"
             ],
             [
              1,
              "#f0f921"
             ]
            ],
            "type": "contour"
           }
          ],
          "contourcarpet": [
           {
            "colorbar": {
             "outlinewidth": 0,
             "ticks": ""
            },
            "type": "contourcarpet"
           }
          ],
          "heatmap": [
           {
            "colorbar": {
             "outlinewidth": 0,
             "ticks": ""
            },
            "colorscale": [
             [
              0,
              "#0d0887"
             ],
             [
              0.1111111111111111,
              "#46039f"
             ],
             [
              0.2222222222222222,
              "#7201a8"
             ],
             [
              0.3333333333333333,
              "#9c179e"
             ],
             [
              0.4444444444444444,
              "#bd3786"
             ],
             [
              0.5555555555555556,
              "#d8576b"
             ],
             [
              0.6666666666666666,
              "#ed7953"
             ],
             [
              0.7777777777777778,
              "#fb9f3a"
             ],
             [
              0.8888888888888888,
              "#fdca26"
             ],
             [
              1,
              "#f0f921"
             ]
            ],
            "type": "heatmap"
           }
          ],
          "heatmapgl": [
           {
            "colorbar": {
             "outlinewidth": 0,
             "ticks": ""
            },
            "colorscale": [
             [
              0,
              "#0d0887"
             ],
             [
              0.1111111111111111,
              "#46039f"
             ],
             [
              0.2222222222222222,
              "#7201a8"
             ],
             [
              0.3333333333333333,
              "#9c179e"
             ],
             [
              0.4444444444444444,
              "#bd3786"
             ],
             [
              0.5555555555555556,
              "#d8576b"
             ],
             [
              0.6666666666666666,
              "#ed7953"
             ],
             [
              0.7777777777777778,
              "#fb9f3a"
             ],
             [
              0.8888888888888888,
              "#fdca26"
             ],
             [
              1,
              "#f0f921"
             ]
            ],
            "type": "heatmapgl"
           }
          ],
          "histogram": [
           {
            "marker": {
             "pattern": {
              "fillmode": "overlay",
              "size": 10,
              "solidity": 0.2
             }
            },
            "type": "histogram"
           }
          ],
          "histogram2d": [
           {
            "colorbar": {
             "outlinewidth": 0,
             "ticks": ""
            },
            "colorscale": [
             [
              0,
              "#0d0887"
             ],
             [
              0.1111111111111111,
              "#46039f"
             ],
             [
              0.2222222222222222,
              "#7201a8"
             ],
             [
              0.3333333333333333,
              "#9c179e"
             ],
             [
              0.4444444444444444,
              "#bd3786"
             ],
             [
              0.5555555555555556,
              "#d8576b"
             ],
             [
              0.6666666666666666,
              "#ed7953"
             ],
             [
              0.7777777777777778,
              "#fb9f3a"
             ],
             [
              0.8888888888888888,
              "#fdca26"
             ],
             [
              1,
              "#f0f921"
             ]
            ],
            "type": "histogram2d"
           }
          ],
          "histogram2dcontour": [
           {
            "colorbar": {
             "outlinewidth": 0,
             "ticks": ""
            },
            "colorscale": [
             [
              0,
              "#0d0887"
             ],
             [
              0.1111111111111111,
              "#46039f"
             ],
             [
              0.2222222222222222,
              "#7201a8"
             ],
             [
              0.3333333333333333,
              "#9c179e"
             ],
             [
              0.4444444444444444,
              "#bd3786"
             ],
             [
              0.5555555555555556,
              "#d8576b"
             ],
             [
              0.6666666666666666,
              "#ed7953"
             ],
             [
              0.7777777777777778,
              "#fb9f3a"
             ],
             [
              0.8888888888888888,
              "#fdca26"
             ],
             [
              1,
              "#f0f921"
             ]
            ],
            "type": "histogram2dcontour"
           }
          ],
          "mesh3d": [
           {
            "colorbar": {
             "outlinewidth": 0,
             "ticks": ""
            },
            "type": "mesh3d"
           }
          ],
          "parcoords": [
           {
            "line": {
             "colorbar": {
              "outlinewidth": 0,
              "ticks": ""
             }
            },
            "type": "parcoords"
           }
          ],
          "pie": [
           {
            "automargin": true,
            "type": "pie"
           }
          ],
          "scatter": [
           {
            "marker": {
             "colorbar": {
              "outlinewidth": 0,
              "ticks": ""
             }
            },
            "type": "scatter"
           }
          ],
          "scatter3d": [
           {
            "line": {
             "colorbar": {
              "outlinewidth": 0,
              "ticks": ""
             }
            },
            "marker": {
             "colorbar": {
              "outlinewidth": 0,
              "ticks": ""
             }
            },
            "type": "scatter3d"
           }
          ],
          "scattercarpet": [
           {
            "marker": {
             "colorbar": {
              "outlinewidth": 0,
              "ticks": ""
             }
            },
            "type": "scattercarpet"
           }
          ],
          "scattergeo": [
           {
            "marker": {
             "colorbar": {
              "outlinewidth": 0,
              "ticks": ""
             }
            },
            "type": "scattergeo"
           }
          ],
          "scattergl": [
           {
            "marker": {
             "colorbar": {
              "outlinewidth": 0,
              "ticks": ""
             }
            },
            "type": "scattergl"
           }
          ],
          "scattermapbox": [
           {
            "marker": {
             "colorbar": {
              "outlinewidth": 0,
              "ticks": ""
             }
            },
            "type": "scattermapbox"
           }
          ],
          "scatterpolar": [
           {
            "marker": {
             "colorbar": {
              "outlinewidth": 0,
              "ticks": ""
             }
            },
            "type": "scatterpolar"
           }
          ],
          "scatterpolargl": [
           {
            "marker": {
             "colorbar": {
              "outlinewidth": 0,
              "ticks": ""
             }
            },
            "type": "scatterpolargl"
           }
          ],
          "scatterternary": [
           {
            "marker": {
             "colorbar": {
              "outlinewidth": 0,
              "ticks": ""
             }
            },
            "type": "scatterternary"
           }
          ],
          "surface": [
           {
            "colorbar": {
             "outlinewidth": 0,
             "ticks": ""
            },
            "colorscale": [
             [
              0,
              "#0d0887"
             ],
             [
              0.1111111111111111,
              "#46039f"
             ],
             [
              0.2222222222222222,
              "#7201a8"
             ],
             [
              0.3333333333333333,
              "#9c179e"
             ],
             [
              0.4444444444444444,
              "#bd3786"
             ],
             [
              0.5555555555555556,
              "#d8576b"
             ],
             [
              0.6666666666666666,
              "#ed7953"
             ],
             [
              0.7777777777777778,
              "#fb9f3a"
             ],
             [
              0.8888888888888888,
              "#fdca26"
             ],
             [
              1,
              "#f0f921"
             ]
            ],
            "type": "surface"
           }
          ],
          "table": [
           {
            "cells": {
             "fill": {
              "color": "#EBF0F8"
             },
             "line": {
              "color": "white"
             }
            },
            "header": {
             "fill": {
              "color": "#C8D4E3"
             },
             "line": {
              "color": "white"
             }
            },
            "type": "table"
           }
          ]
         },
         "layout": {
          "annotationdefaults": {
           "arrowcolor": "#2a3f5f",
           "arrowhead": 0,
           "arrowwidth": 1
          },
          "autotypenumbers": "strict",
          "coloraxis": {
           "colorbar": {
            "outlinewidth": 0,
            "ticks": ""
           }
          },
          "colorscale": {
           "diverging": [
            [
             0,
             "#8e0152"
            ],
            [
             0.1,
             "#c51b7d"
            ],
            [
             0.2,
             "#de77ae"
            ],
            [
             0.3,
             "#f1b6da"
            ],
            [
             0.4,
             "#fde0ef"
            ],
            [
             0.5,
             "#f7f7f7"
            ],
            [
             0.6,
             "#e6f5d0"
            ],
            [
             0.7,
             "#b8e186"
            ],
            [
             0.8,
             "#7fbc41"
            ],
            [
             0.9,
             "#4d9221"
            ],
            [
             1,
             "#276419"
            ]
           ],
           "sequential": [
            [
             0,
             "#0d0887"
            ],
            [
             0.1111111111111111,
             "#46039f"
            ],
            [
             0.2222222222222222,
             "#7201a8"
            ],
            [
             0.3333333333333333,
             "#9c179e"
            ],
            [
             0.4444444444444444,
             "#bd3786"
            ],
            [
             0.5555555555555556,
             "#d8576b"
            ],
            [
             0.6666666666666666,
             "#ed7953"
            ],
            [
             0.7777777777777778,
             "#fb9f3a"
            ],
            [
             0.8888888888888888,
             "#fdca26"
            ],
            [
             1,
             "#f0f921"
            ]
           ],
           "sequentialminus": [
            [
             0,
             "#0d0887"
            ],
            [
             0.1111111111111111,
             "#46039f"
            ],
            [
             0.2222222222222222,
             "#7201a8"
            ],
            [
             0.3333333333333333,
             "#9c179e"
            ],
            [
             0.4444444444444444,
             "#bd3786"
            ],
            [
             0.5555555555555556,
             "#d8576b"
            ],
            [
             0.6666666666666666,
             "#ed7953"
            ],
            [
             0.7777777777777778,
             "#fb9f3a"
            ],
            [
             0.8888888888888888,
             "#fdca26"
            ],
            [
             1,
             "#f0f921"
            ]
           ]
          },
          "colorway": [
           "#636efa",
           "#EF553B",
           "#00cc96",
           "#ab63fa",
           "#FFA15A",
           "#19d3f3",
           "#FF6692",
           "#B6E880",
           "#FF97FF",
           "#FECB52"
          ],
          "font": {
           "color": "#2a3f5f"
          },
          "geo": {
           "bgcolor": "white",
           "lakecolor": "white",
           "landcolor": "#E5ECF6",
           "showlakes": true,
           "showland": true,
           "subunitcolor": "white"
          },
          "hoverlabel": {
           "align": "left"
          },
          "hovermode": "closest",
          "mapbox": {
           "style": "light"
          },
          "paper_bgcolor": "white",
          "plot_bgcolor": "#E5ECF6",
          "polar": {
           "angularaxis": {
            "gridcolor": "white",
            "linecolor": "white",
            "ticks": ""
           },
           "bgcolor": "#E5ECF6",
           "radialaxis": {
            "gridcolor": "white",
            "linecolor": "white",
            "ticks": ""
           }
          },
          "scene": {
           "xaxis": {
            "backgroundcolor": "#E5ECF6",
            "gridcolor": "white",
            "gridwidth": 2,
            "linecolor": "white",
            "showbackground": true,
            "ticks": "",
            "zerolinecolor": "white"
           },
           "yaxis": {
            "backgroundcolor": "#E5ECF6",
            "gridcolor": "white",
            "gridwidth": 2,
            "linecolor": "white",
            "showbackground": true,
            "ticks": "",
            "zerolinecolor": "white"
           },
           "zaxis": {
            "backgroundcolor": "#E5ECF6",
            "gridcolor": "white",
            "gridwidth": 2,
            "linecolor": "white",
            "showbackground": true,
            "ticks": "",
            "zerolinecolor": "white"
           }
          },
          "shapedefaults": {
           "line": {
            "color": "#2a3f5f"
           }
          },
          "ternary": {
           "aaxis": {
            "gridcolor": "white",
            "linecolor": "white",
            "ticks": ""
           },
           "baxis": {
            "gridcolor": "white",
            "linecolor": "white",
            "ticks": ""
           },
           "bgcolor": "#E5ECF6",
           "caxis": {
            "gridcolor": "white",
            "linecolor": "white",
            "ticks": ""
           }
          },
          "title": {
           "x": 0.05
          },
          "xaxis": {
           "automargin": true,
           "gridcolor": "white",
           "linecolor": "white",
           "ticks": "",
           "title": {
            "standoff": 15
           },
           "zerolinecolor": "white",
           "zerolinewidth": 2
          },
          "yaxis": {
           "automargin": true,
           "gridcolor": "white",
           "linecolor": "white",
           "ticks": "",
           "title": {
            "standoff": 15
           },
           "zerolinecolor": "white",
           "zerolinewidth": 2
          }
         }
        },
        "title": {
         "text": "SNAP marginal tax rate for a one-person household in California with $500 monthly housing costs"
        },
        "xaxis": {
         "anchor": "y",
         "autorange": true,
         "domain": [
          0,
          1
         ],
         "range": [
          0,
          2000
         ],
         "title": {
          "text": "Monthly market income"
         },
         "type": "linear"
        },
        "yaxis": {
         "anchor": "x",
         "autorange": true,
         "domain": [
          0,
          1
         ],
         "range": [
          -0.02000006702211168,
          0.3800012734201219
         ],
         "title": {
          "text": "Marginal tax rate"
         },
         "type": "linear"
        }
       }
      },
      "image/png": "[encoded data removed]"
     },
     "metadata": {},
     "output_type": "display_data"
    }
   ],
   "source": [
    "px.line(df, \"market_income\", \"mtr\", labels=LABELS,\n",
    "    title=\"SNAP marginal tax rate for a one-person household in California with $500 monthly housing costs\")"
   ]
  },
  {
   "cell_type": "markdown",
   "metadata": {},
   "source": [
    "### How housing costs affect a four-person household's SNAP benefits\n",
    "\n",
    "We can also visualize how other household characteristics affect SNAP benefits.\n",
    "For example, what if we vary the housing costs of a four-person household with \\$2,000 monthly income?\n",
    "\n",
    "Their SNAP benefit is \\$254 per month if their housing costs are less than \\$700 per month. If they spend \\$1,300 per month on housing, their benefit rises 70% for \\$433 per month."
   ]
  },
  {
   "cell_type": "code",
   "execution_count": 4,
   "metadata": {},
   "outputs": [
    {
     "data": {
      "application/vnd.plotly.v1+json": {
       "config": {
        "plotlyServerURL": "https://plot.ly"
       },
       "data": [
        {
         "hovertemplate": "Monthly housing cost=%{x}<br>Monthly SNAP benefit=%{y}<extra></extra>",
         "legendgroup": "",
         "line": {
          "color": "#636efa",
          "dash": "solid"
         },
         "marker": {
          "symbol": "circle"
         },
         "mode": "lines",
         "name": "",
         "orientation": "v",
         "showlegend": false,
         "type": "scatter",
         "x": [
          0,
          8.333333015441895,
          16.66666603088379,
          25,
          33.33333206176758,
          41.66666793823242,
          50,
          58.33333206176758,
          66.66666412353516,
          75,
          83.33333587646484,
          91.66666412353516,
          100,
          108.33333587646484,
          116.66666412353516,
          125,
          133.3333282470703,
          141.6666717529297,
          150,
          158.3333282470703,
          166.6666717529297,
          175,
          183.3333282470703,
          191.6666717529297,
          200,
          208.3333282470703,
          216.6666717529297,
          225,
          233.3333282470703,
          241.6666717529297,
          250,
          258.3333435058594,
          266.6666564941406,
          275,
          283.3333435058594,
          291.6666564941406,
          300,
          308.3333435058594,
          316.6666564941406,
          325,
          333.3333435058594,
          341.6666564941406,
          350,
          358.3333435058594,
          366.6666564941406,
          375,
          383.3333435058594,
          391.6666564941406,
          400,
          408.3333435058594,
          416.6666564941406,
          425,
          433.3333435058594,
          441.6666564941406,
          450,
          458.3333435058594,
          466.6666564941406,
          475,
          483.3333435058594,
          491.6666564941406,
          500,
          508.3333435058594,
          516.6666870117188,
          525,
          533.3333129882812,
          541.6666870117188,
          550,
          558.3333129882812,
          566.6666870117188,
          575,
          583.3333129882812,
          591.6666870117188,
          600,
          608.3333129882812,
          616.6666870117188,
          625,
          633.3333129882812,
          641.6666870117188,
          650,
          658.3333129882812,
          666.6666870117188,
          675,
          683.3333129882812,
          691.6666870117188,
          700,
          708.3333129882812,
          716.6666870117188,
          725,
          733.3333129882812,
          741.6666870117188,
          750,
          758.3333129882812,
          766.6666870117188,
          775,
          783.3333129882812,
          791.6666870117188,
          800,
          808.3333129882812,
          816.6666870117188,
          825,
          833.3333129882812,
          841.6666870117188,
          850,
          858.3333129882812,
          866.6666870117188,
          875,
          883.3333129882812,
          891.6666870117188,
          900,
          908.3333129882812,
          916.6666870117188,
          925,
          933.3333129882812,
          941.6666870117188,
          950,
          958.3333129882812,
          966.6666870117188,
          975,
          983.3333129882812,
          991.6666870117188,
          1000,
          1008.3333129882812,
          1016.6666870117188,
          1025,
          1033.3333740234375,
          1041.6666259765625,
          1050,
          1058.3333740234375,
          1066.6666259765625,
          1075,
          1083.3333740234375,
          1091.6666259765625,
          1100,
          1108.3333740234375,
          1116.6666259765625,
          1125,
          1133.3333740234375,
          1141.6666259765625,
          1150,
          1158.3333740234375,
          1166.6666259765625,
          1175,
          1183.3333740234375,
          1191.6666259765625,
          1200,
          1208.3333740234375,
          1216.6666259765625,
          1225,
          1233.3333740234375,
          1241.6666259765625,
          1250,
          1258.3333740234375,
          1266.6666259765625,
          1275,
          1283.3333740234375,
          1291.6666259765625,
          1300,
          1308.3333740234375,
          1316.6666259765625,
          1325,
          1333.3333740234375,
          1341.6666259765625,
          1350,
          1358.3333740234375,
          1366.6666259765625,
          1375,
          1383.3333740234375,
          1391.6666259765625,
          1400,
          1408.3333740234375,
          1416.6666259765625,
          1425,
          1433.3333740234375,
          1441.6666259765625,
          1450,
          1458.3333740234375,
          1466.6666259765625,
          1475,
          1483.3333740234375,
          1491.6666259765625,
          1500,
          1508.3333740234375,
          1516.6666259765625,
          1525,
          1533.3333740234375,
          1541.6666259765625,
          1550,
          1558.3333740234375,
          1566.6666259765625,
          1575,
          1583.3333740234375,
          1591.6666259765625,
          1600,
          1608.3333740234375,
          1616.6666259765625,
          1625,
          1633.3333740234375,
          1641.6666259765625,
          1650,
          1658.3333740234375,
          1666.6666259765625,
          1675,
          1683.3333740234375,
          1691.6666259765625,
          1700,
          1708.3333740234375,
          1716.6666259765625,
          1725,
          1733.3333740234375,
          1741.6666259765625,
          1750,
          1758.3333740234375,
          1766.6666259765625,
          1775,
          1783.3333740234375,
          1791.6666259765625,
          1800,
          1808.3333740234375,
          1816.6666259765625,
          1825,
          1833.3333740234375,
          1841.6666259765625,
          1850,
          1858.3333740234375,
          1866.6666259765625,
          1875,
          1883.3333740234375,
          1891.6666259765625,
          1900,
          1908.3333740234375,
          1916.6666259765625,
          1925,
          1933.3333740234375,
          1941.6666259765625,
          1950,
          1958.3333740234375,
          1966.6666259765625,
          1975,
          1983.3333740234375,
          1991.6666259765625,
          2000
         ],
         "xaxis": "x",
         "y": [
          254.2999725341797,
          254.2999725341797,
          254.2999725341797,
          254.2999725341797,
          254.2999725341797,
          254.2999725341797,
          254.2999725341797,
          254.2999725341797,
          254.2999725341797,
          254.2999725341797,
          254.2999725341797,
          254.2999725341797,
          254.2999725341797,
          254.2999725341797,
          254.2999725341797,
          254.2999725341797,
          254.2999725341797,
          254.2999725341797,
          254.2999725341797,
          254.2999725341797,
          254.2999725341797,
          254.2999725341797,
          254.2999725341797,
          254.2999725341797,
          254.2999725341797,
          254.2999725341797,
          254.2999725341797,
          254.2999725341797,
          254.2999725341797,
          254.2999725341797,
          254.2999725341797,
          254.2999725341797,
          254.2999725341797,
          254.2999725341797,
          254.2999725341797,
          254.2999725341797,
          254.2999725341797,
          254.2999725341797,
          254.2999725341797,
          254.2999725341797,
          254.2999725341797,
          254.2999725341797,
          254.2999725341797,
          254.2999725341797,
          254.2999725341797,
          254.2999725341797,
          254.2999725341797,
          254.2999725341797,
          254.2999725341797,
          254.2999725341797,
          254.2999725341797,
          254.2999725341797,
          254.2999725341797,
          254.2999725341797,
          254.2999725341797,
          254.2999725341797,
          254.2999725341797,
          254.2999725341797,
          254.2999725341797,
          254.2999725341797,
          254.2999725341797,
          254.2999725341797,
          254.2999725341797,
          254.2999725341797,
          254.2999725341797,
          254.2999725341797,
          254.2999725341797,
          254.2999725341797,
          254.2999725341797,
          254.2999725341797,
          254.2999725341797,
          254.2999725341797,
          254.2999725341797,
          254.2999725341797,
          254.2999725341797,
          254.2999725341797,
          254.2999725341797,
          254.2999725341797,
          254.2999725341797,
          254.2999725341797,
          254.2999725341797,
          254.2999725341797,
          254.2999725341797,
          254.2999725341797,
          254.2999725341797,
          254.2999725341797,
          256.4499816894531,
          258.9499816894531,
          261.4499816894531,
          263.9499816894531,
          266.4499816894531,
          268.9499816894531,
          271.4499816894531,
          273.9499816894531,
          276.4499816894531,
          278.9499816894531,
          281.4499816894531,
          283.9499816894531,
          286.4499816894531,
          288.9499816894531,
          291.4499816894531,
          293.9499816894531,
          296.4499816894531,
          298.9499816894531,
          301.4499816894531,
          303.9499816894531,
          306.4499816894531,
          308.9499816894531,
          311.4499816894531,
          313.9499816894531,
          316.4499816894531,
          318.9499816894531,
          321.4499816894531,
          323.9499816894531,
          326.4499816894531,
          328.9499816894531,
          331.4499816894531,
          333.9499816894531,
          336.4499816894531,
          338.9499816894531,
          341.4499816894531,
          343.9499816894531,
          346.4499816894531,
          348.9499816894531,
          351.4499816894531,
          353.9499816894531,
          356.4499816894531,
          358.9499816894531,
          361.4499816894531,
          363.9499816894531,
          366.4499816894531,
          368.9499816894531,
          371.4499816894531,
          373.9499816894531,
          376.4499816894531,
          378.9499816894531,
          381.4499816894531,
          383.9499816894531,
          386.4499816894531,
          388.9499816894531,
          391.4499816894531,
          393.9499816894531,
          396.4499816894531,
          398.9499816894531,
          401.4499816894531,
          403.9499816894531,
          406.4499816894531,
          408.9499816894531,
          411.4499816894531,
          413.9499816894531,
          416.4499816894531,
          418.9499816894531,
          421.4499816894531,
          423.9499816894531,
          426.4499816894531,
          428.9499816894531,
          431.4499816894531,
          433.3999938964844,
          433.3999938964844,
          433.3999938964844,
          433.3999938964844,
          433.3999938964844,
          433.3999938964844,
          433.3999938964844,
          433.3999938964844,
          433.3999938964844,
          433.3999938964844,
          433.3999938964844,
          433.3999938964844,
          433.3999938964844,
          433.3999938964844,
          433.3999938964844,
          433.3999938964844,
          433.3999938964844,
          433.3999938964844,
          433.3999938964844,
          433.3999938964844,
          433.3999938964844,
          433.3999938964844,
          433.3999938964844,
          433.3999938964844,
          433.3999938964844,
          433.3999938964844,
          433.3999938964844,
          433.3999938964844,
          433.3999938964844,
          433.3999938964844,
          433.3999938964844,
          433.3999938964844,
          433.3999938964844,
          433.3999938964844,
          433.3999938964844,
          433.3999938964844,
          433.3999938964844,
          433.3999938964844,
          433.3999938964844,
          433.3999938964844,
          433.3999938964844,
          433.3999938964844,
          433.3999938964844,
          433.3999938964844,
          433.3999938964844,
          433.3999938964844,
          433.3999938964844,
          433.3999938964844,
          433.3999938964844,
          433.3999938964844,
          433.3999938964844,
          433.3999938964844,
          433.3999938964844,
          433.3999938964844,
          433.3999938964844,
          433.3999938964844,
          433.3999938964844,
          433.3999938964844,
          433.3999938964844,
          433.3999938964844,
          433.3999938964844,
          433.3999938964844,
          433.3999938964844,
          433.3999938964844,
          433.3999938964844,
          433.3999938964844,
          433.3999938964844,
          433.3999938964844,
          433.3999938964844,
          433.3999938964844,
          433.3999938964844,
          433.3999938964844,
          433.3999938964844,
          433.3999938964844,
          433.3999938964844,
          433.3999938964844,
          433.3999938964844,
          433.3999938964844,
          433.3999938964844,
          433.3999938964844,
          433.3999938964844,
          433.3999938964844,
          433.3999938964844,
          433.3999938964844
         ],
         "yaxis": "y"
        }
       ],
       "layout": {
        "autosize": true,
        "legend": {
         "tracegroupgap": 0
        },
        "template": {
         "data": {
          "bar": [
           {
            "error_x": {
             "color": "#2a3f5f"
            },
            "error_y": {
             "color": "#2a3f5f"
            },
            "marker": {
             "line": {
              "color": "#E5ECF6",
              "width": 0.5
             },
             "pattern": {
              "fillmode": "overlay",
              "size": 10,
              "solidity": 0.2
             }
            },
            "type": "bar"
           }
          ],
          "barpolar": [
           {
            "marker": {
             "line": {
              "color": "#E5ECF6",
              "width": 0.5
             },
             "pattern": {
              "fillmode": "overlay",
              "size": 10,
              "solidity": 0.2
             }
            },
            "type": "barpolar"
           }
          ],
          "carpet": [
           {
            "aaxis": {
             "endlinecolor": "#2a3f5f",
             "gridcolor": "white",
             "linecolor": "white",
             "minorgridcolor": "white",
             "startlinecolor": "#2a3f5f"
            },
            "baxis": {
             "endlinecolor": "#2a3f5f",
             "gridcolor": "white",
             "linecolor": "white",
             "minorgridcolor": "white",
             "startlinecolor": "#2a3f5f"
            },
            "type": "carpet"
           }
          ],
          "choropleth": [
           {
            "colorbar": {
             "outlinewidth": 0,
             "ticks": ""
            },
            "type": "choropleth"
           }
          ],
          "contour": [
           {
            "colorbar": {
             "outlinewidth": 0,
             "ticks": ""
            },
            "colorscale": [
             [
              0,
              "#0d0887"
             ],
             [
              0.1111111111111111,
              "#46039f"
             ],
             [
              0.2222222222222222,
              "#7201a8"
             ],
             [
              0.3333333333333333,
              "#9c179e"
             ],
             [
              0.4444444444444444,
              "#bd3786"
             ],
             [
              0.5555555555555556,
              "#d8576b"
             ],
             [
              0.6666666666666666,
              "#ed7953"
             ],
             [
              0.7777777777777778,
              "#fb9f3a"
             ],
             [
              0.8888888888888888,
              "#fdca26"
             ],
             [
              1,
              "#f0f921"
             ]
            ],
            "type": "contour"
           }
          ],
          "contourcarpet": [
           {
            "colorbar": {
             "outlinewidth": 0,
             "ticks": ""
            },
            "type": "contourcarpet"
           }
          ],
          "heatmap": [
           {
            "colorbar": {
             "outlinewidth": 0,
             "ticks": ""
            },
            "colorscale": [
             [
              0,
              "#0d0887"
             ],
             [
              0.1111111111111111,
              "#46039f"
             ],
             [
              0.2222222222222222,
              "#7201a8"
             ],
             [
              0.3333333333333333,
              "#9c179e"
             ],
             [
              0.4444444444444444,
              "#bd3786"
             ],
             [
              0.5555555555555556,
              "#d8576b"
             ],
             [
              0.6666666666666666,
              "#ed7953"
             ],
             [
              0.7777777777777778,
              "#fb9f3a"
             ],
             [
              0.8888888888888888,
              "#fdca26"
             ],
             [
              1,
              "#f0f921"
             ]
            ],
            "type": "heatmap"
           }
          ],
          "heatmapgl": [
           {
            "colorbar": {
             "outlinewidth": 0,
             "ticks": ""
            },
            "colorscale": [
             [
              0,
              "#0d0887"
             ],
             [
              0.1111111111111111,
              "#46039f"
             ],
             [
              0.2222222222222222,
              "#7201a8"
             ],
             [
              0.3333333333333333,
              "#9c179e"
             ],
             [
              0.4444444444444444,
              "#bd3786"
             ],
             [
              0.5555555555555556,
              "#d8576b"
             ],
             [
              0.6666666666666666,
              "#ed7953"
             ],
             [
              0.7777777777777778,
              "#fb9f3a"
             ],
             [
              0.8888888888888888,
              "#fdca26"
             ],
             [
              1,
              "#f0f921"
             ]
            ],
            "type": "heatmapgl"
           }
          ],
          "histogram": [
           {
            "marker": {
             "pattern": {
              "fillmode": "overlay",
              "size": 10,
              "solidity": 0.2
             }
            },
            "type": "histogram"
           }
          ],
          "histogram2d": [
           {
            "colorbar": {
             "outlinewidth": 0,
             "ticks": ""
            },
            "colorscale": [
             [
              0,
              "#0d0887"
             ],
             [
              0.1111111111111111,
              "#46039f"
             ],
             [
              0.2222222222222222,
              "#7201a8"
             ],
             [
              0.3333333333333333,
              "#9c179e"
             ],
             [
              0.4444444444444444,
              "#bd3786"
             ],
             [
              0.5555555555555556,
              "#d8576b"
             ],
             [
              0.6666666666666666,
              "#ed7953"
             ],
             [
              0.7777777777777778,
              "#fb9f3a"
             ],
             [
              0.8888888888888888,
              "#fdca26"
             ],
             [
              1,
              "#f0f921"
             ]
            ],
            "type": "histogram2d"
           }
          ],
          "histogram2dcontour": [
           {
            "colorbar": {
             "outlinewidth": 0,
             "ticks": ""
            },
            "colorscale": [
             [
              0,
              "#0d0887"
             ],
             [
              0.1111111111111111,
              "#46039f"
             ],
             [
              0.2222222222222222,
              "#7201a8"
             ],
             [
              0.3333333333333333,
              "#9c179e"
             ],
             [
              0.4444444444444444,
              "#bd3786"
             ],
             [
              0.5555555555555556,
              "#d8576b"
             ],
             [
              0.6666666666666666,
              "#ed7953"
             ],
             [
              0.7777777777777778,
              "#fb9f3a"
             ],
             [
              0.8888888888888888,
              "#fdca26"
             ],
             [
              1,
              "#f0f921"
             ]
            ],
            "type": "histogram2dcontour"
           }
          ],
          "mesh3d": [
           {
            "colorbar": {
             "outlinewidth": 0,
             "ticks": ""
            },
            "type": "mesh3d"
           }
          ],
          "parcoords": [
           {
            "line": {
             "colorbar": {
              "outlinewidth": 0,
              "ticks": ""
             }
            },
            "type": "parcoords"
           }
          ],
          "pie": [
           {
            "automargin": true,
            "type": "pie"
           }
          ],
          "scatter": [
           {
            "marker": {
             "colorbar": {
              "outlinewidth": 0,
              "ticks": ""
             }
            },
            "type": "scatter"
           }
          ],
          "scatter3d": [
           {
            "line": {
             "colorbar": {
              "outlinewidth": 0,
              "ticks": ""
             }
            },
            "marker": {
             "colorbar": {
              "outlinewidth": 0,
              "ticks": ""
             }
            },
            "type": "scatter3d"
           }
          ],
          "scattercarpet": [
           {
            "marker": {
             "colorbar": {
              "outlinewidth": 0,
              "ticks": ""
             }
            },
            "type": "scattercarpet"
           }
          ],
          "scattergeo": [
           {
            "marker": {
             "colorbar": {
              "outlinewidth": 0,
              "ticks": ""
             }
            },
            "type": "scattergeo"
           }
          ],
          "scattergl": [
           {
            "marker": {
             "colorbar": {
              "outlinewidth": 0,
              "ticks": ""
             }
            },
            "type": "scattergl"
           }
          ],
          "scattermapbox": [
           {
            "marker": {
             "colorbar": {
              "outlinewidth": 0,
              "ticks": ""
             }
            },
            "type": "scattermapbox"
           }
          ],
          "scatterpolar": [
           {
            "marker": {
             "colorbar": {
              "outlinewidth": 0,
              "ticks": ""
             }
            },
            "type": "scatterpolar"
           }
          ],
          "scatterpolargl": [
           {
            "marker": {
             "colorbar": {
              "outlinewidth": 0,
              "ticks": ""
             }
            },
            "type": "scatterpolargl"
           }
          ],
          "scatterternary": [
           {
            "marker": {
             "colorbar": {
              "outlinewidth": 0,
              "ticks": ""
             }
            },
            "type": "scatterternary"
           }
          ],
          "surface": [
           {
            "colorbar": {
             "outlinewidth": 0,
             "ticks": ""
            },
            "colorscale": [
             [
              0,
              "#0d0887"
             ],
             [
              0.1111111111111111,
              "#46039f"
             ],
             [
              0.2222222222222222,
              "#7201a8"
             ],
             [
              0.3333333333333333,
              "#9c179e"
             ],
             [
              0.4444444444444444,
              "#bd3786"
             ],
             [
              0.5555555555555556,
              "#d8576b"
             ],
             [
              0.6666666666666666,
              "#ed7953"
             ],
             [
              0.7777777777777778,
              "#fb9f3a"
             ],
             [
              0.8888888888888888,
              "#fdca26"
             ],
             [
              1,
              "#f0f921"
             ]
            ],
            "type": "surface"
           }
          ],
          "table": [
           {
            "cells": {
             "fill": {
              "color": "#EBF0F8"
             },
             "line": {
              "color": "white"
             }
            },
            "header": {
             "fill": {
              "color": "#C8D4E3"
             },
             "line": {
              "color": "white"
             }
            },
            "type": "table"
           }
          ]
         },
         "layout": {
          "annotationdefaults": {
           "arrowcolor": "#2a3f5f",
           "arrowhead": 0,
           "arrowwidth": 1
          },
          "autotypenumbers": "strict",
          "coloraxis": {
           "colorbar": {
            "outlinewidth": 0,
            "ticks": ""
           }
          },
          "colorscale": {
           "diverging": [
            [
             0,
             "#8e0152"
            ],
            [
             0.1,
             "#c51b7d"
            ],
            [
             0.2,
             "#de77ae"
            ],
            [
             0.3,
             "#f1b6da"
            ],
            [
             0.4,
             "#fde0ef"
            ],
            [
             0.5,
             "#f7f7f7"
            ],
            [
             0.6,
             "#e6f5d0"
            ],
            [
             0.7,
             "#b8e186"
            ],
            [
             0.8,
             "#7fbc41"
            ],
            [
             0.9,
             "#4d9221"
            ],
            [
             1,
             "#276419"
            ]
           ],
           "sequential": [
            [
             0,
             "#0d0887"
            ],
            [
             0.1111111111111111,
             "#46039f"
            ],
            [
             0.2222222222222222,
             "#7201a8"
            ],
            [
             0.3333333333333333,
             "#9c179e"
            ],
            [
             0.4444444444444444,
             "#bd3786"
            ],
            [
             0.5555555555555556,
             "#d8576b"
            ],
            [
             0.6666666666666666,
             "#ed7953"
            ],
            [
             0.7777777777777778,
             "#fb9f3a"
            ],
            [
             0.8888888888888888,
             "#fdca26"
            ],
            [
             1,
             "#f0f921"
            ]
           ],
           "sequentialminus": [
            [
             0,
             "#0d0887"
            ],
            [
             0.1111111111111111,
             "#46039f"
            ],
            [
             0.2222222222222222,
             "#7201a8"
            ],
            [
             0.3333333333333333,
             "#9c179e"
            ],
            [
             0.4444444444444444,
             "#bd3786"
            ],
            [
             0.5555555555555556,
             "#d8576b"
            ],
            [
             0.6666666666666666,
             "#ed7953"
            ],
            [
             0.7777777777777778,
             "#fb9f3a"
            ],
            [
             0.8888888888888888,
             "#fdca26"
            ],
            [
             1,
             "#f0f921"
            ]
           ]
          },
          "colorway": [
           "#636efa",
           "#EF553B",
           "#00cc96",
           "#ab63fa",
           "#FFA15A",
           "#19d3f3",
           "#FF6692",
           "#B6E880",
           "#FF97FF",
           "#FECB52"
          ],
          "font": {
           "color": "#2a3f5f"
          },
          "geo": {
           "bgcolor": "white",
           "lakecolor": "white",
           "landcolor": "#E5ECF6",
           "showlakes": true,
           "showland": true,
           "subunitcolor": "white"
          },
          "hoverlabel": {
           "align": "left"
          },
          "hovermode": "closest",
          "mapbox": {
           "style": "light"
          },
          "paper_bgcolor": "white",
          "plot_bgcolor": "#E5ECF6",
          "polar": {
           "angularaxis": {
            "gridcolor": "white",
            "linecolor": "white",
            "ticks": ""
           },
           "bgcolor": "#E5ECF6",
           "radialaxis": {
            "gridcolor": "white",
            "linecolor": "white",
            "ticks": ""
           }
          },
          "scene": {
           "xaxis": {
            "backgroundcolor": "#E5ECF6",
            "gridcolor": "white",
            "gridwidth": 2,
            "linecolor": "white",
            "showbackground": true,
            "ticks": "",
            "zerolinecolor": "white"
           },
           "yaxis": {
            "backgroundcolor": "#E5ECF6",
            "gridcolor": "white",
            "gridwidth": 2,
            "linecolor": "white",
            "showbackground": true,
            "ticks": "",
            "zerolinecolor": "white"
           },
           "zaxis": {
            "backgroundcolor": "#E5ECF6",
            "gridcolor": "white",
            "gridwidth": 2,
            "linecolor": "white",
            "showbackground": true,
            "ticks": "",
            "zerolinecolor": "white"
           }
          },
          "shapedefaults": {
           "line": {
            "color": "#2a3f5f"
           }
          },
          "ternary": {
           "aaxis": {
            "gridcolor": "white",
            "linecolor": "white",
            "ticks": ""
           },
           "baxis": {
            "gridcolor": "white",
            "linecolor": "white",
            "ticks": ""
           },
           "bgcolor": "#E5ECF6",
           "caxis": {
            "gridcolor": "white",
            "linecolor": "white",
            "ticks": ""
           }
          },
          "title": {
           "x": 0.05
          },
          "xaxis": {
           "automargin": true,
           "gridcolor": "white",
           "linecolor": "white",
           "ticks": "",
           "title": {
            "standoff": 15
           },
           "zerolinecolor": "white",
           "zerolinewidth": 2
          },
          "yaxis": {
           "automargin": true,
           "gridcolor": "white",
           "linecolor": "white",
           "ticks": "",
           "title": {
            "standoff": 15
           },
           "zerolinecolor": "white",
           "zerolinewidth": 2
          }
         }
        },
        "title": {
         "text": "SNAP benefit for a four-person household in California with $1,000 monthly earnings"
        },
        "xaxis": {
         "anchor": "y",
         "autorange": true,
         "domain": [
          0,
          1
         ],
         "range": [
          0,
          2000
         ],
         "title": {
          "text": "Monthly housing cost"
         },
         "type": "linear"
        },
        "yaxis": {
         "anchor": "x",
         "domain": [
          0,
          1
         ],
         "range": [
          0,
          476.73999328613286
         ],
         "title": {
          "text": "Monthly SNAP benefit"
         },
         "type": "linear"
        }
       }
      },
      "image/png": "[encoded data removed]"
     },
     "metadata": {},
     "output_type": "display_data"
    }
   ],
   "source": [
    "sim = IndividualSim(year=2022)\n",
    "sim.add_person(name=\"parent1\", market_income=1000 * 12)\n",
    "sim.add_person(name=\"parent2\", market_income=1000 * 12)\n",
    "sim.add_person(name=\"child1\")\n",
    "sim.add_person(name=\"child2\")\n",
    "sim.add_spm_unit(name=\"spm_unit\", members=[\"parent1\", \"parent2\", \"child1\", \"child2\"], housing_cost=500 * 12)\n",
    "\n",
    "sim.vary(\"housing_cost\", max=2000 * 12)\n",
    "\n",
    "df = pd.DataFrame(dict(\n",
    "    housing_cost=sim.calc(\"housing_cost\")[0] / 12,\n",
    "    snap = sim.calc(\"snap\")[0] / 12,\n",
    "    housing_subsidy_rate = sim.deriv(\"snap\", \"housing_cost\")\n",
    "))\n",
    "\n",
    "\n",
    "fig = px.line(df, \"housing_cost\", \"snap\", labels=LABELS,\n",
    "    title=\"SNAP benefit for a four-person household in California with $1,000 monthly earnings\")\n",
    "fig.update_layout(yaxis_range=[0, df.snap.max() * 1.1])\n",
    "fig.show()"
   ]
  },
  {
   "cell_type": "markdown",
   "metadata": {},
   "source": [
    "As before, we can also see the rate at which SNAP increases with housing costs. For this household, SNAP subsidizes housing costs at a rate of 30% for housing costs ranging from \\$700 to \\$1,300 per month."
   ]
  },
  {
   "cell_type": "code",
   "execution_count": 5,
   "metadata": {},
   "outputs": [
    {
     "data": {
      "application/vnd.plotly.v1+json": {
       "config": {
        "plotlyServerURL": "https://plot.ly"
       },
       "data": [
        {
         "hovertemplate": "Monthly housing cost=%{x}<br>Housing subsidy rate=%{y}<extra></extra>",
         "legendgroup": "",
         "line": {
          "color": "#636efa",
          "dash": "solid"
         },
         "marker": {
          "symbol": "circle"
         },
         "mode": "lines",
         "name": "",
         "orientation": "v",
         "showlegend": false,
         "type": "scatter",
         "x": [
          0,
          8.333333015441895,
          16.66666603088379,
          25,
          33.33333206176758,
          41.66666793823242,
          50,
          58.33333206176758,
          66.66666412353516,
          75,
          83.33333587646484,
          91.66666412353516,
          100,
          108.33333587646484,
          116.66666412353516,
          125,
          133.3333282470703,
          141.6666717529297,
          150,
          158.3333282470703,
          166.6666717529297,
          175,
          183.3333282470703,
          191.6666717529297,
          200,
          208.3333282470703,
          216.6666717529297,
          225,
          233.3333282470703,
          241.6666717529297,
          250,
          258.3333435058594,
          266.6666564941406,
          275,
          283.3333435058594,
          291.6666564941406,
          300,
          308.3333435058594,
          316.6666564941406,
          325,
          333.3333435058594,
          341.6666564941406,
          350,
          358.3333435058594,
          366.6666564941406,
          375,
          383.3333435058594,
          391.6666564941406,
          400,
          408.3333435058594,
          416.6666564941406,
          425,
          433.3333435058594,
          441.6666564941406,
          450,
          458.3333435058594,
          466.6666564941406,
          475,
          483.3333435058594,
          491.6666564941406,
          500,
          508.3333435058594,
          516.6666870117188,
          525,
          533.3333129882812,
          541.6666870117188,
          550,
          558.3333129882812,
          566.6666870117188,
          575,
          583.3333129882812,
          591.6666870117188,
          600,
          608.3333129882812,
          616.6666870117188,
          625,
          633.3333129882812,
          641.6666870117188,
          650,
          658.3333129882812,
          666.6666870117188,
          675,
          683.3333129882812,
          691.6666870117188,
          700,
          708.3333129882812,
          716.6666870117188,
          725,
          733.3333129882812,
          741.6666870117188,
          750,
          758.3333129882812,
          766.6666870117188,
          775,
          783.3333129882812,
          791.6666870117188,
          800,
          808.3333129882812,
          816.6666870117188,
          825,
          833.3333129882812,
          841.6666870117188,
          850,
          858.3333129882812,
          866.6666870117188,
          875,
          883.3333129882812,
          891.6666870117188,
          900,
          908.3333129882812,
          916.6666870117188,
          925,
          933.3333129882812,
          941.6666870117188,
          950,
          958.3333129882812,
          966.6666870117188,
          975,
          983.3333129882812,
          991.6666870117188,
          1000,
          1008.3333129882812,
          1016.6666870117188,
          1025,
          1033.3333740234375,
          1041.6666259765625,
          1050,
          1058.3333740234375,
          1066.6666259765625,
          1075,
          1083.3333740234375,
          1091.6666259765625,
          1100,
          1108.3333740234375,
          1116.6666259765625,
          1125,
          1133.3333740234375,
          1141.6666259765625,
          1150,
          1158.3333740234375,
          1166.6666259765625,
          1175,
          1183.3333740234375,
          1191.6666259765625,
          1200,
          1208.3333740234375,
          1216.6666259765625,
          1225,
          1233.3333740234375,
          1241.6666259765625,
          1250,
          1258.3333740234375,
          1266.6666259765625,
          1275,
          1283.3333740234375,
          1291.6666259765625,
          1300,
          1308.3333740234375,
          1316.6666259765625,
          1325,
          1333.3333740234375,
          1341.6666259765625,
          1350,
          1358.3333740234375,
          1366.6666259765625,
          1375,
          1383.3333740234375,
          1391.6666259765625,
          1400,
          1408.3333740234375,
          1416.6666259765625,
          1425,
          1433.3333740234375,
          1441.6666259765625,
          1450,
          1458.3333740234375,
          1466.6666259765625,
          1475,
          1483.3333740234375,
          1491.6666259765625,
          1500,
          1508.3333740234375,
          1516.6666259765625,
          1525,
          1533.3333740234375,
          1541.6666259765625,
          1550,
          1558.3333740234375,
          1566.6666259765625,
          1575,
          1583.3333740234375,
          1591.6666259765625,
          1600,
          1608.3333740234375,
          1616.6666259765625,
          1625,
          1633.3333740234375,
          1641.6666259765625,
          1650,
          1658.3333740234375,
          1666.6666259765625,
          1675,
          1683.3333740234375,
          1691.6666259765625,
          1700,
          1708.3333740234375,
          1716.6666259765625,
          1725,
          1733.3333740234375,
          1741.6666259765625,
          1750,
          1758.3333740234375,
          1766.6666259765625,
          1775,
          1783.3333740234375,
          1791.6666259765625,
          1800,
          1808.3333740234375,
          1816.6666259765625,
          1825,
          1833.3333740234375,
          1841.6666259765625,
          1850,
          1858.3333740234375,
          1866.6666259765625,
          1875,
          1883.3333740234375,
          1891.6666259765625,
          1900,
          1908.3333740234375,
          1916.6666259765625,
          1925,
          1933.3333740234375,
          1941.6666259765625,
          1950,
          1958.3333740234375,
          1966.6666259765625,
          1975,
          1983.3333740234375,
          1991.6666259765625,
          2000
         ],
         "xaxis": "x",
         "y": [
          0,
          0,
          0,
          0,
          0,
          0,
          0,
          0,
          0,
          0,
          0,
          0,
          0,
          0,
          0,
          0,
          0,
          0,
          0,
          0,
          0,
          0,
          0,
          0,
          0,
          0,
          0,
          0,
          0,
          0,
          0,
          0,
          0,
          0,
          0,
          0,
          0,
          0,
          0,
          0,
          0,
          0,
          0,
          0,
          0,
          0,
          0,
          0,
          0,
          0,
          0,
          0,
          0,
          0,
          0,
          0,
          0,
          0,
          0,
          0,
          0,
          0,
          0,
          0,
          0,
          0,
          0,
          0,
          0,
          0,
          0,
          0,
          0,
          0,
          0,
          0,
          0,
          0,
          0,
          0,
          0,
          0,
          0,
          0,
          0,
          0.2580029368400574,
          0.30000001192092896,
          0.30000001192092896,
          0.30000001192092896,
          0.30000001192092896,
          0.30000001192092896,
          0.30000001192092896,
          0.30000001192092896,
          0.30000001192092896,
          0.30000001192092896,
          0.30000001192092896,
          0.30000001192092896,
          0.30000001192092896,
          0.30000001192092896,
          0.30000001192092896,
          0.30000001192092896,
          0.30000001192092896,
          0.30000001192092896,
          0.30000001192092896,
          0.30000001192092896,
          0.30000001192092896,
          0.30000001192092896,
          0.30000001192092896,
          0.30000001192092896,
          0.30000001192092896,
          0.30000001192092896,
          0.30000001192092896,
          0.30000001192092896,
          0.30000001192092896,
          0.30000001192092896,
          0.30000001192092896,
          0.30000001192092896,
          0.30000001192092896,
          0.30000001192092896,
          0.30000001192092896,
          0.30000001192092896,
          0.30000001192092896,
          0.30000001192092896,
          0.30000001192092896,
          0.30000001192092896,
          0.30000001192092896,
          0.30000001192092896,
          0.30000001192092896,
          0.30000001192092896,
          0.30000001192092896,
          0.30000001192092896,
          0.30000001192092896,
          0.30000001192092896,
          0.30000001192092896,
          0.30000001192092896,
          0.30000001192092896,
          0.30000001192092896,
          0.30000001192092896,
          0.30000001192092896,
          0.30000001192092896,
          0.30000001192092896,
          0.30000001192092896,
          0.30000001192092896,
          0.30000001192092896,
          0.30000001192092896,
          0.30000001192092896,
          0.30000001192092896,
          0.30000001192092896,
          0.30000001192092896,
          0.30000001192092896,
          0.30000001192092896,
          0.30000001192092896,
          0.30000001192092896,
          0.30000001192092896,
          0.30000001192092896,
          0.30000001192092896,
          0.23399902880191803,
          0,
          0,
          0,
          0,
          0,
          0,
          0,
          0,
          0,
          0,
          0,
          0,
          0,
          0,
          0,
          0,
          0,
          0,
          0,
          0,
          0,
          0,
          0,
          0,
          0,
          0,
          0,
          0,
          0,
          0,
          0,
          0,
          0,
          0,
          0,
          0,
          0,
          0,
          0,
          0,
          0,
          0,
          0,
          0,
          0,
          0,
          0,
          0,
          0,
          0,
          0,
          0,
          0,
          0,
          0,
          0,
          0,
          0,
          0,
          0,
          0,
          0,
          0,
          0,
          0,
          0,
          0,
          0,
          0,
          0,
          0,
          0,
          0,
          0,
          0,
          0,
          0,
          0,
          0,
          0,
          0,
          0,
          0,
          0
         ],
         "yaxis": "y"
        }
       ],
       "layout": {
        "autosize": true,
        "legend": {
         "tracegroupgap": 0
        },
        "template": {
         "data": {
          "bar": [
           {
            "error_x": {
             "color": "#2a3f5f"
            },
            "error_y": {
             "color": "#2a3f5f"
            },
            "marker": {
             "line": {
              "color": "#E5ECF6",
              "width": 0.5
             },
             "pattern": {
              "fillmode": "overlay",
              "size": 10,
              "solidity": 0.2
             }
            },
            "type": "bar"
           }
          ],
          "barpolar": [
           {
            "marker": {
             "line": {
              "color": "#E5ECF6",
              "width": 0.5
             },
             "pattern": {
              "fillmode": "overlay",
              "size": 10,
              "solidity": 0.2
             }
            },
            "type": "barpolar"
           }
          ],
          "carpet": [
           {
            "aaxis": {
             "endlinecolor": "#2a3f5f",
             "gridcolor": "white",
             "linecolor": "white",
             "minorgridcolor": "white",
             "startlinecolor": "#2a3f5f"
            },
            "baxis": {
             "endlinecolor": "#2a3f5f",
             "gridcolor": "white",
             "linecolor": "white",
             "minorgridcolor": "white",
             "startlinecolor": "#2a3f5f"
            },
            "type": "carpet"
           }
          ],
          "choropleth": [
           {
            "colorbar": {
             "outlinewidth": 0,
             "ticks": ""
            },
            "type": "choropleth"
           }
          ],
          "contour": [
           {
            "colorbar": {
             "outlinewidth": 0,
             "ticks": ""
            },
            "colorscale": [
             [
              0,
              "#0d0887"
             ],
             [
              0.1111111111111111,
              "#46039f"
             ],
             [
              0.2222222222222222,
              "#7201a8"
             ],
             [
              0.3333333333333333,
              "#9c179e"
             ],
             [
              0.4444444444444444,
              "#bd3786"
             ],
             [
              0.5555555555555556,
              "#d8576b"
             ],
             [
              0.6666666666666666,
              "#ed7953"
             ],
             [
              0.7777777777777778,
              "#fb9f3a"
             ],
             [
              0.8888888888888888,
              "#fdca26"
             ],
             [
              1,
              "#f0f921"
             ]
            ],
            "type": "contour"
           }
          ],
          "contourcarpet": [
           {
            "colorbar": {
             "outlinewidth": 0,
             "ticks": ""
            },
            "type": "contourcarpet"
           }
          ],
          "heatmap": [
           {
            "colorbar": {
             "outlinewidth": 0,
             "ticks": ""
            },
            "colorscale": [
             [
              0,
              "#0d0887"
             ],
             [
              0.1111111111111111,
              "#46039f"
             ],
             [
              0.2222222222222222,
              "#7201a8"
             ],
             [
              0.3333333333333333,
              "#9c179e"
             ],
             [
              0.4444444444444444,
              "#bd3786"
             ],
             [
              0.5555555555555556,
              "#d8576b"
             ],
             [
              0.6666666666666666,
              "#ed7953"
             ],
             [
              0.7777777777777778,
              "#fb9f3a"
             ],
             [
              0.8888888888888888,
              "#fdca26"
             ],
             [
              1,
              "#f0f921"
             ]
            ],
            "type": "heatmap"
           }
          ],
          "heatmapgl": [
           {
            "colorbar": {
             "outlinewidth": 0,
             "ticks": ""
            },
            "colorscale": [
             [
              0,
              "#0d0887"
             ],
             [
              0.1111111111111111,
              "#46039f"
             ],
             [
              0.2222222222222222,
              "#7201a8"
             ],
             [
              0.3333333333333333,
              "#9c179e"
             ],
             [
              0.4444444444444444,
              "#bd3786"
             ],
             [
              0.5555555555555556,
              "#d8576b"
             ],
             [
              0.6666666666666666,
              "#ed7953"
             ],
             [
              0.7777777777777778,
              "#fb9f3a"
             ],
             [
              0.8888888888888888,
              "#fdca26"
             ],
             [
              1,
              "#f0f921"
             ]
            ],
            "type": "heatmapgl"
           }
          ],
          "histogram": [
           {
            "marker": {
             "pattern": {
              "fillmode": "overlay",
              "size": 10,
              "solidity": 0.2
             }
            },
            "type": "histogram"
           }
          ],
          "histogram2d": [
           {
            "colorbar": {
             "outlinewidth": 0,
             "ticks": ""
            },
            "colorscale": [
             [
              0,
              "#0d0887"
             ],
             [
              0.1111111111111111,
              "#46039f"
             ],
             [
              0.2222222222222222,
              "#7201a8"
             ],
             [
              0.3333333333333333,
              "#9c179e"
             ],
             [
              0.4444444444444444,
              "#bd3786"
             ],
             [
              0.5555555555555556,
              "#d8576b"
             ],
             [
              0.6666666666666666,
              "#ed7953"
             ],
             [
              0.7777777777777778,
              "#fb9f3a"
             ],
             [
              0.8888888888888888,
              "#fdca26"
             ],
             [
              1,
              "#f0f921"
             ]
            ],
            "type": "histogram2d"
           }
          ],
          "histogram2dcontour": [
           {
            "colorbar": {
             "outlinewidth": 0,
             "ticks": ""
            },
            "colorscale": [
             [
              0,
              "#0d0887"
             ],
             [
              0.1111111111111111,
              "#46039f"
             ],
             [
              0.2222222222222222,
              "#7201a8"
             ],
             [
              0.3333333333333333,
              "#9c179e"
             ],
             [
              0.4444444444444444,
              "#bd3786"
             ],
             [
              0.5555555555555556,
              "#d8576b"
             ],
             [
              0.6666666666666666,
              "#ed7953"
             ],
             [
              0.7777777777777778,
              "#fb9f3a"
             ],
             [
              0.8888888888888888,
              "#fdca26"
             ],
             [
              1,
              "#f0f921"
             ]
            ],
            "type": "histogram2dcontour"
           }
          ],
          "mesh3d": [
           {
            "colorbar": {
             "outlinewidth": 0,
             "ticks": ""
            },
            "type": "mesh3d"
           }
          ],
          "parcoords": [
           {
            "line": {
             "colorbar": {
              "outlinewidth": 0,
              "ticks": ""
             }
            },
            "type": "parcoords"
           }
          ],
          "pie": [
           {
            "automargin": true,
            "type": "pie"
           }
          ],
          "scatter": [
           {
            "marker": {
             "colorbar": {
              "outlinewidth": 0,
              "ticks": ""
             }
            },
            "type": "scatter"
           }
          ],
          "scatter3d": [
           {
            "line": {
             "colorbar": {
              "outlinewidth": 0,
              "ticks": ""
             }
            },
            "marker": {
             "colorbar": {
              "outlinewidth": 0,
              "ticks": ""
             }
            },
            "type": "scatter3d"
           }
          ],
          "scattercarpet": [
           {
            "marker": {
             "colorbar": {
              "outlinewidth": 0,
              "ticks": ""
             }
            },
            "type": "scattercarpet"
           }
          ],
          "scattergeo": [
           {
            "marker": {
             "colorbar": {
              "outlinewidth": 0,
              "ticks": ""
             }
            },
            "type": "scattergeo"
           }
          ],
          "scattergl": [
           {
            "marker": {
             "colorbar": {
              "outlinewidth": 0,
              "ticks": ""
             }
            },
            "type": "scattergl"
           }
          ],
          "scattermapbox": [
           {
            "marker": {
             "colorbar": {
              "outlinewidth": 0,
              "ticks": ""
             }
            },
            "type": "scattermapbox"
           }
          ],
          "scatterpolar": [
           {
            "marker": {
             "colorbar": {
              "outlinewidth": 0,
              "ticks": ""
             }
            },
            "type": "scatterpolar"
           }
          ],
          "scatterpolargl": [
           {
            "marker": {
             "colorbar": {
              "outlinewidth": 0,
              "ticks": ""
             }
            },
            "type": "scatterpolargl"
           }
          ],
          "scatterternary": [
           {
            "marker": {
             "colorbar": {
              "outlinewidth": 0,
              "ticks": ""
             }
            },
            "type": "scatterternary"
           }
          ],
          "surface": [
           {
            "colorbar": {
             "outlinewidth": 0,
             "ticks": ""
            },
            "colorscale": [
             [
              0,
              "#0d0887"
             ],
             [
              0.1111111111111111,
              "#46039f"
             ],
             [
              0.2222222222222222,
              "#7201a8"
             ],
             [
              0.3333333333333333,
              "#9c179e"
             ],
             [
              0.4444444444444444,
              "#bd3786"
             ],
             [
              0.5555555555555556,
              "#d8576b"
             ],
             [
              0.6666666666666666,
              "#ed7953"
             ],
             [
              0.7777777777777778,
              "#fb9f3a"
             ],
             [
              0.8888888888888888,
              "#fdca26"
             ],
             [
              1,
              "#f0f921"
             ]
            ],
            "type": "surface"
           }
          ],
          "table": [
           {
            "cells": {
             "fill": {
              "color": "#EBF0F8"
             },
             "line": {
              "color": "white"
             }
            },
            "header": {
             "fill": {
              "color": "#C8D4E3"
             },
             "line": {
              "color": "white"
             }
            },
            "type": "table"
           }
          ]
         },
         "layout": {
          "annotationdefaults": {
           "arrowcolor": "#2a3f5f",
           "arrowhead": 0,
           "arrowwidth": 1
          },
          "autotypenumbers": "strict",
          "coloraxis": {
           "colorbar": {
            "outlinewidth": 0,
            "ticks": ""
           }
          },
          "colorscale": {
           "diverging": [
            [
             0,
             "#8e0152"
            ],
            [
             0.1,
             "#c51b7d"
            ],
            [
             0.2,
             "#de77ae"
            ],
            [
             0.3,
             "#f1b6da"
            ],
            [
             0.4,
             "#fde0ef"
            ],
            [
             0.5,
             "#f7f7f7"
            ],
            [
             0.6,
             "#e6f5d0"
            ],
            [
             0.7,
             "#b8e186"
            ],
            [
             0.8,
             "#7fbc41"
            ],
            [
             0.9,
             "#4d9221"
            ],
            [
             1,
             "#276419"
            ]
           ],
           "sequential": [
            [
             0,
             "#0d0887"
            ],
            [
             0.1111111111111111,
             "#46039f"
            ],
            [
             0.2222222222222222,
             "#7201a8"
            ],
            [
             0.3333333333333333,
             "#9c179e"
            ],
            [
             0.4444444444444444,
             "#bd3786"
            ],
            [
             0.5555555555555556,
             "#d8576b"
            ],
            [
             0.6666666666666666,
             "#ed7953"
            ],
            [
             0.7777777777777778,
             "#fb9f3a"
            ],
            [
             0.8888888888888888,
             "#fdca26"
            ],
            [
             1,
             "#f0f921"
            ]
           ],
           "sequentialminus": [
            [
             0,
             "#0d0887"
            ],
            [
             0.1111111111111111,
             "#46039f"
            ],
            [
             0.2222222222222222,
             "#7201a8"
            ],
            [
             0.3333333333333333,
             "#9c179e"
            ],
            [
             0.4444444444444444,
             "#bd3786"
            ],
            [
             0.5555555555555556,
             "#d8576b"
            ],
            [
             0.6666666666666666,
             "#ed7953"
            ],
            [
             0.7777777777777778,
             "#fb9f3a"
            ],
            [
             0.8888888888888888,
             "#fdca26"
            ],
            [
             1,
             "#f0f921"
            ]
           ]
          },
          "colorway": [
           "#636efa",
           "#EF553B",
           "#00cc96",
           "#ab63fa",
           "#FFA15A",
           "#19d3f3",
           "#FF6692",
           "#B6E880",
           "#FF97FF",
           "#FECB52"
          ],
          "font": {
           "color": "#2a3f5f"
          },
          "geo": {
           "bgcolor": "white",
           "lakecolor": "white",
           "landcolor": "#E5ECF6",
           "showlakes": true,
           "showland": true,
           "subunitcolor": "white"
          },
          "hoverlabel": {
           "align": "left"
          },
          "hovermode": "closest",
          "mapbox": {
           "style": "light"
          },
          "paper_bgcolor": "white",
          "plot_bgcolor": "#E5ECF6",
          "polar": {
           "angularaxis": {
            "gridcolor": "white",
            "linecolor": "white",
            "ticks": ""
           },
           "bgcolor": "#E5ECF6",
           "radialaxis": {
            "gridcolor": "white",
            "linecolor": "white",
            "ticks": ""
           }
          },
          "scene": {
           "xaxis": {
            "backgroundcolor": "#E5ECF6",
            "gridcolor": "white",
            "gridwidth": 2,
            "linecolor": "white",
            "showbackground": true,
            "ticks": "",
            "zerolinecolor": "white"
           },
           "yaxis": {
            "backgroundcolor": "#E5ECF6",
            "gridcolor": "white",
            "gridwidth": 2,
            "linecolor": "white",
            "showbackground": true,
            "ticks": "",
            "zerolinecolor": "white"
           },
           "zaxis": {
            "backgroundcolor": "#E5ECF6",
            "gridcolor": "white",
            "gridwidth": 2,
            "linecolor": "white",
            "showbackground": true,
            "ticks": "",
            "zerolinecolor": "white"
           }
          },
          "shapedefaults": {
           "line": {
            "color": "#2a3f5f"
           }
          },
          "ternary": {
           "aaxis": {
            "gridcolor": "white",
            "linecolor": "white",
            "ticks": ""
           },
           "baxis": {
            "gridcolor": "white",
            "linecolor": "white",
            "ticks": ""
           },
           "bgcolor": "#E5ECF6",
           "caxis": {
            "gridcolor": "white",
            "linecolor": "white",
            "ticks": ""
           }
          },
          "title": {
           "x": 0.05
          },
          "xaxis": {
           "automargin": true,
           "gridcolor": "white",
           "linecolor": "white",
           "ticks": "",
           "title": {
            "standoff": 15
           },
           "zerolinecolor": "white",
           "zerolinewidth": 2
          },
          "yaxis": {
           "automargin": true,
           "gridcolor": "white",
           "linecolor": "white",
           "ticks": "",
           "title": {
            "standoff": 15
           },
           "zerolinecolor": "white",
           "zerolinewidth": 2
          }
         }
        },
        "title": {
         "text": "SNAP housing subsidy rate for a one-person household in California with $1,000 monthly earnings"
        },
        "xaxis": {
         "anchor": "y",
         "autorange": true,
         "domain": [
          0,
          1
         ],
         "range": [
          0,
          2000
         ],
         "title": {
          "text": "Monthly housing cost"
         },
         "type": "linear"
        },
        "yaxis": {
         "anchor": "x",
         "autorange": true,
         "domain": [
          0,
          1
         ],
         "range": [
          -0.016666667328940496,
          0.31666667924986946
         ],
         "title": {
          "text": "Housing subsidy rate"
         },
         "type": "linear"
        }
       }
      },
      "image/png": "[encoded data removed]"
     },
     "metadata": {},
     "output_type": "display_data"
    }
   ],
   "source": [
    "px.line(df, \"housing_cost\", \"housing_subsidy_rate\", labels=LABELS,\n",
    "    title=\"SNAP housing subsidy rate for a one-person household in California with $1,000 monthly earnings\")"
   ]
  }
 ],
 "metadata": {
  "interpreter": {
   "hash": "f6c9ba0ba91f0693015cf7a073db232538e793cc60920a6621bf7b5e9ac55a05"
  },
  "kernelspec": {
   "display_name": "Python 3.7.11 64-bit ('py37': conda)",
   "language": "python",
   "name": "python3711jvsc74a57bd0f6c9ba0ba91f0693015cf7a073db232538e793cc60920a6621bf7b5e9ac55a05"
  },
  "language_info": {
   "codemirror_mode": {
    "name": "ipython",
    "version": 3
   },
   "file_extension": ".py",
   "mimetype": "text/x-python",
   "name": "python",
   "nbconvert_exporter": "python",
   "pygments_lexer": "ipython3",
   "version": "3.7.11"
  }
 },
 "nbformat": 4,
 "nbformat_minor": 4
}
