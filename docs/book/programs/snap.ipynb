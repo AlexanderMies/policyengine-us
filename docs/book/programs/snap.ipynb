{
 "cells": [
  {
   "cell_type": "markdown",
   "metadata": {},
   "source": [
    "# SNAP\n",
    "\n",
    "The Supplemental Nutrition Assistance Program (SNAP) is a program that provides food assistance to low-income families.\n",
    "Eligibility depends on household size, state, and income, before and after a series of deductions involving earnings and various costs such as shelter and childcare.\n",
    "\n",
    "## Examples\n",
    "\n",
    "### How earnings affect a one-person household's SNAP benefits\n",
    "\n",
    "Consider a single person household in California with \\$1,000 monthly earned income and \\$600 monthly rent.\n",
    "They would be eligible for \\$145 per month in SNAP benefits."
   ]
  },
  {
   "cell_type": "code",
   "execution_count": null,
   "metadata": {},
   "outputs": [],
   "source": [
    "from openfisca_us import IndividualSim\n",
    "import pandas as pd\n",
    "import plotly.express as px\n",
    "\n",
    "sim = IndividualSim(year=2022)\n",
    "sim.add_person(name=\"person\", employment_income=1000 * 12)\n",
    "sim.add_spm_unit(name=\"spm_unit\", members=[\"person\"], housing_cost=600 * 12)\n",
    "\n",
    "round(sim.calc(\"snap\")[0] / 12)"
   ]
  },
  {
   "cell_type": "markdown",
   "metadata": {},
   "source": [
    "What if their earnings change?\n",
    "They receive the maximum benefit of \\$250 per month until they reach \\$720 in monthly earnings, at which point it starts phasing out until their earnings reach \\$1,350.\n",
    "At that point, they continue to receive the \\$20 minimum monthly benefit until they reach \\$2,150 per month, 200% of the poverty line, at which point they are no longer eligible."
   ]
  },
  {
   "cell_type": "code",
   "execution_count": null,
   "metadata": {},
   "outputs": [],
   "source": [
    "sim.vary(\"employment_income\", max=2500 * 12, step=120)\n",
    "\n",
    "import plotly.express as px\n",
    "\n",
    "LABELS = dict(\n",
    "    employment_income=\"Monthly employment income\",\n",
    "    housing_cost=\"Monthly housing cost\",\n",
    "    snap=\"Monthly SNAP benefit\",\n",
    "    mtr=\"Marginal tax rate\",\n",
    "    housing_subsidy_rate=\"Housing subsidy rate\",\n",
    ")\n",
    "\n",
    "df = pd.DataFrame(\n",
    "    dict(\n",
    "        employment_income=sim.calc(\"employment_income\")[0],\n",
    "        snap=sim.calc(\"snap\")[0],\n",
    "        mtr=-sim.deriv(\"snap\", \"employment_income\"),\n",
    "    )\n",
    ")\n",
    "df[[\"employment_income\", \"snap\"]] = (\n",
    "    df[[\"employment_income\", \"snap\"]] / 12\n",
    ").round()\n",
    "\n",
    "fig = px.line(\n",
    "    df,\n",
    "    \"employment_income\",\n",
    "    \"snap\",\n",
    "    labels=LABELS,\n",
    "    title=\"SNAP benefit for a one-person household in California with $600 monthly housing costs\",\n",
    ")\n",
    "fig.update_layout(xaxis_tickformat=\"$\", yaxis_tickformat=\"$\")\n",
    "fig.show()"
   ]
  },
  {
   "cell_type": "markdown",
   "metadata": {},
   "source": [
    "We can also view their marginal tax rate from the program, revealing that SNAP phases out at 36 cents on the dollar through the phase-out region.\n",
    "The person also experiences a cliff (infinite marginal tax rate) when they hit 200% of the poverty line."
   ]
  },
  {
   "cell_type": "code",
   "execution_count": null,
   "metadata": {},
   "outputs": [],
   "source": [
    "fig = px.line(\n",
    "    df,\n",
    "    \"employment_income\",\n",
    "    \"mtr\",\n",
    "    labels=LABELS,\n",
    "    title=\"SNAP marginal tax rate for a one-person household in California with $600 monthly housing costs\",\n",
    ")\n",
    "fig.update_layout(xaxis_tickformat=\"$\", yaxis_tickformat=\".0%\", yaxis_range=[0, 1])\n",
    "fig.show()"
   ]
  },
  {
   "cell_type": "markdown",
   "metadata": {},
   "source": [
    "### How housing costs affect a four-person household's SNAP benefits\n",
    "\n",
    "We can also visualize how other household characteristics affect SNAP benefits.\n",
    "For example, what if we vary the housing costs of a four-person household with \\$2,000 monthly income?\n",
    "\n",
    "Their SNAP benefit is \\$409 per month if their housing costs are less than \\$720 per month. If they spend \\$1,310 per month on housing, their benefit rises 44% to \\$588 per month."
   ]
  },
  {
   "cell_type": "code",
   "execution_count": null,
   "metadata": {},
   "outputs": [],
   "source": [
    "sim = IndividualSim(year=2022)\n",
    "sim.add_person(name=\"parent1\", employment_income=1000 * 12)\n",
    "sim.add_person(name=\"parent2\", employment_income=1000 * 12)\n",
    "sim.add_person(name=\"child1\")\n",
    "sim.add_person(name=\"child2\")\n",
    "sim.add_spm_unit(\n",
    "    name=\"spm_unit\",\n",
    "    members=[\"parent1\", \"parent2\", \"child1\", \"child2\"],\n",
    ")\n",
    "\n",
    "sim.vary(\"housing_cost\", max=2000 * 12, step=120)\n",
    "\n",
    "df = pd.DataFrame(\n",
    "    dict(\n",
    "        housing_cost=sim.calc(\"housing_cost\")[0],\n",
    "        snap=sim.calc(\"snap\")[0],\n",
    "        housing_subsidy_rate=sim.deriv(\"snap\", \"housing_cost\"),\n",
    "    )\n",
    ")\n",
    "df[[\"housing_cost\", \"snap\"]] = (df[[\"housing_cost\", \"snap\"]] / 12).round()\n",
    "\n",
    "\n",
    "fig = px.line(\n",
    "    df,\n",
    "    \"housing_cost\",\n",
    "    \"snap\",\n",
    "    labels=LABELS,\n",
    "    title=\"SNAP benefit for a four-person household in California with $1,000 monthly earnings\",\n",
    ")\n",
    "fig.update_layout(\n",
    "    xaxis_tickformat=\"$\",\n",
    "    yaxis_tickformat=\"$\",\n",
    "    yaxis_range=[0, df.snap.max() * 1.1],\n",
    ")\n",
    "fig.show()"
   ]
  },
  {
   "cell_type": "markdown",
   "metadata": {},
   "source": [
    "As before, we can also see the rate at which SNAP increases with housing costs. For this household, SNAP subsidizes housing costs at a rate of 30% for housing costs ranging from \\$720 to \\$1,310 per month."
   ]
  },
  {
   "cell_type": "code",
   "execution_count": null,
   "metadata": {},
   "outputs": [],
   "source": [
    "fig = px.line(\n",
    "    df,\n",
    "    \"housing_cost\",\n",
    "    \"housing_subsidy_rate\",\n",
    "    labels=LABELS,\n",
    "    title=\"SNAP housing subsidy rate for a one-person household in California with $1,000 monthly earnings\",\n",
    ")\n",
    "fig.update_layout(xaxis_tickformat=\"$\", yaxis_tickformat=\".0%\")\n",
    "fig.show()"
   ]
  }
 ],
 "metadata": {
  "interpreter": {
   "hash": "8dfc7b25af29ff50af05ad7ef5344155df419318e539ca710572e6dd4f9023a3"
  },
  "kernelspec": {
   "display_name": "Python 3.7.11 64-bit ('py37': conda)",
   "language": "python",
   "name": "python3"
  },
  "language_info": {
   "codemirror_mode": {
    "name": "ipython",
    "version": 3
   },
   "file_extension": ".py",
   "mimetype": "text/x-python",
   "name": "python",
   "nbconvert_exporter": "python",
   "pygments_lexer": "ipython3",
   "version": "3.7.11"
  }
 },
 "nbformat": 4,
 "nbformat_minor": 4
}
