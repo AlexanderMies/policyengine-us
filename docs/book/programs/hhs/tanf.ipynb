{
 "cells": [
  {
   "cell_type": "markdown",
   "metadata": {},
   "source": [
    "# Temporary Assistance for Needy Families (TANF)\n",
    "\n",
    "Currently in development, TANF is a state-level benefit program.\n",
    "\n",
    "From benefits.gov:\n",
    "\n",
    "> The Temporary Assistance for Needy Families (TANF) program provides grant funds to states and territories to provide families with financial assistance and related support services. State-administered programs may include childcare assistance, job preparation, and work assistance.\n",
    "\n",
    "## General formula\n",
    "\n",
    "To calculate TANF entitlement, we use the general computation tree below (may vary depending on state and county):\n",
    "\n",
    "- `tanf`: TANF entitlement\n",
    "  - `tanf_amount_if_eligible`: amount if eligible\n",
    "    - Definition: `tanf_max_amount - tanf_countable_income`\n",
    "    - `tanf_max_amount`: maximum amount\n",
    "      - **Parameters**: the maximum amount defined by different state TANF programs may vary due to these factors:\n",
    "        - Household size: How many people live in the household.\n",
    "        - \"Region\": Some states may define a \"region\"-level distinction for maximum amounts; for example, California (CalWORKS) defines two regions based on what county the household resides in.\n",
    "        - Individual household properties such as caregiver or disability status.\n",
    "        - Example: California (CalWORKS) has different maximum amounts based on these factors, which they define as \"exempt/non-exempt\".\n",
    "        - State-specific policies.\n",
    "    - `tanf_countable_income`: Amount deducted from TANF maximum amount based on income.\n",
    "      - `tanf_gross_earned_income`: earned income.\n",
    "        - **Parameter**: list of earned income sources summed.\n",
    "      - `tanf_gross_unearned_income`: unearned income. (ADD DEF HERE)\n",
    "        - **Parameter**: list of unearned income sources summed.\n",
    "      - `deductions`: deductions from assessed income.\n",
    "        - `earnings_deduction`: deduction amount based on earnings.\n",
    "          - **Parameter**: percentage of earnings deducted from gross earned income.\n",
    "          - **Parameter**: flat amount deducted from the household's gross earned income.\n",
    "          - **Parameter**: flat amount deducted from each earner's gross earned income.\n",
    "  - `is_tanf_eligible`: whether eligible for TANF\n",
    "    - `is_tanf_enrolled`: whether a family is already enrolled in TANF.\n",
    "    - `is_tanf_demographically_eligible`: demographic definition of TANF eligibility, which is mostly constant across the US.\n",
    "      - Definition: If there are children (ages 0-17) present in the household, pregnant people, or there are people aged 18 years old that are currently enrolled in a school, the family is demographically eligible for TANF.\n",
    "    - `is_tanf_economically_eligible`: Whether the family has sufficiently low income to qualify for eligibility.\n",
    "      - `is_tanf_enrolled`: whether a family is already enrolled in TANF.\n",
    "      - `is_tanf_continuous_eligible`:\n",
    "        - `tanf_eligibility_income`: income measure used to assess eligibility for TANF.\n",
    "          - **Parameters**: income definition varies depending on state policies:\n",
    "            - **Parameter**: deductions from income per earner\n",
    "            - **Parameter**: deductions from income per household\n",
    "        - `tanf_max_amount` (defined above)\n",
    "      - `is_tanf_initial_eligible`:\n",
    "        - This variable is very similar to `is_continuous_eligible`, except for the initial employment deductions that are applied to determininig initial eligibility.\n",
    "        - `tanf_eligibility_income`: income measure used to assess eligibility for TANF.\n",
    "          - **Parameters**: income definition varies depending on state policies:\n",
    "            - **Parameter**: deductions from income per earner\n",
    "            - **Parameter**: deductions from income per household\n",
    "        - `tanf_max_amount` (defined above)"
   ]
  },
  {
   "cell_type": "code",
   "execution_count": 1,
   "metadata": {},
   "outputs": [
    {
     "name": "stdout",
     "output_type": "stream",
     "text": [
      "TANF:  [372.5]\n"
     ]
    }
   ],
   "source": [
    "from openfisca_us import IndividualSim\n",
    "import pandas as pd\n",
    "import plotly.express as px\n",
    "\n",
    "sim_emp = IndividualSim(year=2022)\n",
    "sim_emp.add_person(name=\"adult\", age=30, employment_income=250 * 12)\n",
    "sim_emp.add_person(name=\"child\", age=10)\n",
    "sim_emp.add_spm_unit(name=\"spm_unit\", members=[\"adult\", \"child\"])\n",
    "sim_emp.add_household(name=\"household\", members=[\"adult\", \"child\"], state_code=\"IL\")\n",
    "\n",
    "print(\"TANF: \", sim_emp.calc(\"tanf\") / 12)"
   ]
  },
  {
   "cell_type": "markdown",
   "metadata": {},
   "source": [
    "What if their earnings change?\n",
    "They receive the maximum allotment of \\$250 per month until they reach \\$720 in monthly earnings, plus the \\$95 emergency allotment, coming to \\$345.\n",
    "When their income hits \\$980 per month, their normal allotment falls to \\$155, at which point their total allotment stabilizes at \\$250.\n",
    "The normal allotment then continues to fall until their earnings reach \\$1,350, at which point their continue to receive the \\$20 minimum monthly allotment until they reach \\$2,150 per month, 200% of the poverty line.\n",
    "At 200% of the poverty line, both their normal and full allotment fall to \\$0."
   ]
  },
  {
   "cell_type": "code",
   "execution_count": 2,
   "metadata": {},
   "outputs": [
    {
     "ename": "ValueError",
     "evalue": "operands could not be broadcast together with shapes (100,) (1,101) ",
     "output_type": "error",
     "traceback": [
      "\u001b[1;31m---------------------------------------------------------------------------\u001b[0m",
      "\u001b[1;31mValueError\u001b[0m                                Traceback (most recent call last)",
      "\u001b[1;32m~\\AppData\\Local\\Temp/ipykernel_2444/1196750447.py\u001b[0m in \u001b[0;36m<module>\u001b[1;34m\u001b[0m\n\u001b[0;32m     35\u001b[0m \u001b[1;33m\u001b[0m\u001b[0m\n\u001b[0;32m     36\u001b[0m fig = px.line(\n\u001b[1;32m---> 37\u001b[1;33m     \u001b[0mmake_df\u001b[0m\u001b[1;33m(\u001b[0m\u001b[1;34m\"IL\"\u001b[0m\u001b[1;33m,\u001b[0m \u001b[1;32mTrue\u001b[0m\u001b[1;33m)\u001b[0m\u001b[1;33m,\u001b[0m\u001b[1;33m\u001b[0m\u001b[1;33m\u001b[0m\u001b[0m\n\u001b[0m\u001b[0;32m     38\u001b[0m     \u001b[1;34m\"employment_income\"\u001b[0m\u001b[1;33m,\u001b[0m\u001b[1;33m\u001b[0m\u001b[1;33m\u001b[0m\u001b[0m\n\u001b[0;32m     39\u001b[0m     \u001b[1;34m\"tanf\"\u001b[0m\u001b[1;33m,\u001b[0m\u001b[1;33m\u001b[0m\u001b[1;33m\u001b[0m\u001b[0m\n",
      "\u001b[1;32m~\\AppData\\Local\\Temp/ipykernel_2444/1196750447.py\u001b[0m in \u001b[0;36mmake_df\u001b[1;34m(state_code, enrolled)\u001b[0m\n\u001b[0;32m     24\u001b[0m             \u001b[0mstate_code\u001b[0m \u001b[1;33m=\u001b[0m \u001b[0mstate_code\u001b[0m\u001b[1;33m,\u001b[0m\u001b[1;33m\u001b[0m\u001b[1;33m\u001b[0m\u001b[0m\n\u001b[0;32m     25\u001b[0m             \u001b[0mtanf\u001b[0m\u001b[1;33m=\u001b[0m\u001b[0msim\u001b[0m\u001b[1;33m.\u001b[0m\u001b[0mcalc\u001b[0m\u001b[1;33m(\u001b[0m\u001b[1;34m\"tanf\"\u001b[0m\u001b[1;33m)\u001b[0m\u001b[1;33m[\u001b[0m\u001b[1;36m0\u001b[0m\u001b[1;33m]\u001b[0m\u001b[1;33m,\u001b[0m\u001b[1;33m\u001b[0m\u001b[1;33m\u001b[0m\u001b[0m\n\u001b[1;32m---> 26\u001b[1;33m             \u001b[0mmtr\u001b[0m\u001b[1;33m=\u001b[0m\u001b[1;33m-\u001b[0m\u001b[0msim\u001b[0m\u001b[1;33m.\u001b[0m\u001b[0mderiv\u001b[0m\u001b[1;33m(\u001b[0m\u001b[1;34m\"tanf\"\u001b[0m\u001b[1;33m,\u001b[0m \u001b[1;34m\"employment_income\"\u001b[0m\u001b[1;33m)\u001b[0m\u001b[1;33m,\u001b[0m\u001b[1;33m\u001b[0m\u001b[1;33m\u001b[0m\u001b[0m\n\u001b[0m\u001b[0;32m     27\u001b[0m         )\n\u001b[0;32m     28\u001b[0m     )\n",
      "\u001b[1;32m~\\anaconda3\\envs\\poliengvenv\\lib\\site-packages\\openfisca_tools\\hypothetical.py\u001b[0m in \u001b[0;36mderiv\u001b[1;34m(self, var, wrt, period, var_target, wrt_target)\u001b[0m\n\u001b[0;32m    247\u001b[0m             \u001b[0mlen\u001b[0m\u001b[1;33m(\u001b[0m\u001b[0my\u001b[0m\u001b[1;33m)\u001b[0m \u001b[1;33m>\u001b[0m \u001b[1;36m1\u001b[0m \u001b[1;32mand\u001b[0m \u001b[0mlen\u001b[0m\u001b[1;33m(\u001b[0m\u001b[0mx\u001b[0m\u001b[1;33m)\u001b[0m \u001b[1;33m>\u001b[0m \u001b[1;36m1\u001b[0m\u001b[1;33m\u001b[0m\u001b[1;33m\u001b[0m\u001b[0m\n\u001b[0;32m    248\u001b[0m         ), \"Simulation must vary on an axis to calculate derivatives.\"\n\u001b[1;32m--> 249\u001b[1;33m         \u001b[0mderiv\u001b[0m \u001b[1;33m=\u001b[0m \u001b[1;33m(\u001b[0m\u001b[0my\u001b[0m\u001b[1;33m[\u001b[0m\u001b[1;36m1\u001b[0m\u001b[1;33m:\u001b[0m\u001b[1;33m]\u001b[0m \u001b[1;33m-\u001b[0m \u001b[0my\u001b[0m\u001b[1;33m[\u001b[0m\u001b[1;33m:\u001b[0m\u001b[1;33m-\u001b[0m\u001b[1;36m1\u001b[0m\u001b[1;33m]\u001b[0m\u001b[1;33m)\u001b[0m \u001b[1;33m/\u001b[0m \u001b[1;33m(\u001b[0m\u001b[0mx\u001b[0m\u001b[1;33m[\u001b[0m\u001b[1;36m1\u001b[0m\u001b[1;33m:\u001b[0m\u001b[1;33m]\u001b[0m \u001b[1;33m-\u001b[0m \u001b[0mx\u001b[0m\u001b[1;33m[\u001b[0m\u001b[1;33m:\u001b[0m\u001b[1;33m-\u001b[0m\u001b[1;36m1\u001b[0m\u001b[1;33m]\u001b[0m\u001b[1;33m)\u001b[0m\u001b[1;33m\u001b[0m\u001b[1;33m\u001b[0m\u001b[0m\n\u001b[0m\u001b[0;32m    250\u001b[0m         \u001b[0mderiv\u001b[0m \u001b[1;33m=\u001b[0m \u001b[0mnp\u001b[0m\u001b[1;33m.\u001b[0m\u001b[0mappend\u001b[0m\u001b[1;33m(\u001b[0m\u001b[0mderiv\u001b[0m\u001b[1;33m,\u001b[0m \u001b[0mderiv\u001b[0m\u001b[1;33m[\u001b[0m\u001b[1;33m-\u001b[0m\u001b[1;36m1\u001b[0m\u001b[1;33m]\u001b[0m\u001b[1;33m)\u001b[0m\u001b[1;33m\u001b[0m\u001b[1;33m\u001b[0m\u001b[0m\n\u001b[0;32m    251\u001b[0m         \u001b[1;32mreturn\u001b[0m \u001b[0mderiv\u001b[0m\u001b[1;33m\u001b[0m\u001b[1;33m\u001b[0m\u001b[0m\n",
      "\u001b[1;31mValueError\u001b[0m: operands could not be broadcast together with shapes (100,) (1,101) "
     ]
    }
   ],
   "source": [
    "LABELS = dict(\n",
    "    employment_income=\"Monthly employment income\",\n",
    "    dividend_income=\"Monthly dividend income\",\n",
    "    income=\"Monthly income\",\n",
    "    income_source=\"Income source\",\n",
    "    tanf=\"Monthly TANF allotment\",\n",
    "    mtr=\"Marginal tax rate from TANF?\",\n",
    "    allotment=\"TANF allotment\",\n",
    ")\n",
    "\n",
    "def make_df(state_code, enrolled):\n",
    "    sim = IndividualSim(year=2022)\n",
    "    sim.add_person(name=\"adult\", age=30, employment_income=250 * 12)\n",
    "    sim.add_person(name=\"child\", age=10)\n",
    "    sim.add_spm_unit(name=\"spm_unit\", members=[\"adult\", \"child\"], is_tanf_enrolled=enrolled)\n",
    "    sim.add_household(name=\"household\", members=[\"adult\", \"child\"], state_code=state_code)\n",
    "\n",
    "    sim.vary(\"employment_income\", max=1000 * 12, step=120)\n",
    "\n",
    "    df = pd.DataFrame(\n",
    "        dict(\n",
    "            employment_income=sim.calc(\"employment_income\")[0],\n",
    "            enrolled=\"Enrolled\" if enrolled else \"Not Enrolled\",\n",
    "            state_code = state_code,\n",
    "            tanf=sim.calc(\"tanf\")[0],\n",
    "            mtr=-sim.deriv(\"tanf\", \"employment_income\"),\n",
    "        )\n",
    "    )\n",
    "\n",
    "    df[[\"employment_income\", \"tanf\"]] = (\n",
    "        df[[\"employment_income\", \"tanf\"]] / 12\n",
    "    ).round()\n",
    "\n",
    "    return df\n",
    "\n",
    "fig = px.line(\n",
    "    make_df(\"IL\", True),\n",
    "    \"employment_income\",\n",
    "    \"tanf\",\n",
    "    labels=LABELS,\n",
    "    title=\"TANF allotment for a two-person household in Illinois\",\n",
    ")\n",
    "\n",
    "fig.update_layout(xaxis_tickformat=\"$,\", yaxis_tickformat=\"$,\")\n",
    "fig.show()"
   ]
  },
  {
   "cell_type": "code",
   "execution_count": null,
   "metadata": {},
   "outputs": [],
   "source": [
    "emp_df_combined = pd.concat([make_df(\"IL\", True), make_df(\"IL\", False), make_df(\"CA\", True), make_df(\"CA\", False)])\n",
    "\n",
    "fig = px.line(\n",
    "    emp_df_combined,\n",
    "    \"employment_income\",\n",
    "    \"tanf\",\n",
    "    color=\"enrolled\",\n",
    "    labels=LABELS,\n",
    "    animation_frame=\"state_code\",\n",
    "    title=\"TANF allotment for a two-person household in Illinois\",\n",
    ")\n",
    "\n",
    "fig.update_layout(xaxis_tickformat=\"$,\", yaxis_tickformat=\"$,\", yaxis_range=[0,emp_df_combined.tanf.max()*1.1])\n",
    "fig.show()"
   ]
  },
  {
   "cell_type": "code",
   "execution_count": null,
   "metadata": {},
   "outputs": [],
   "source": [
    "emp_df_combined"
   ]
  },
  {
   "cell_type": "markdown",
   "metadata": {},
   "source": [
    "We can also view their marginal tax rate from the program, revealing that SNAP phases out at 36 cents on the dollar through the phase-out region.\n",
    "The emergency allotment shrinks this region.\n",
    "The person also experiences a cliff (infinite marginal tax rate) when they hit 200% of the poverty line."
   ]
  },
  {
   "cell_type": "code",
   "execution_count": null,
   "metadata": {},
   "outputs": [],
   "source": [
    "fig = px.line(\n",
    "    emp_df,\n",
    "    \"employment_income\",\n",
    "    \"mtr\",\n",
    "    color=\"allotment\",\n",
    "    labels=LABELS,\n",
    "    title=\"SNAP marginal tax rate for a one-person household in California with $600 monthly housing costs\",\n",
    ")\n",
    "fig.update_layout(\n",
    "    xaxis_tickformat=\"$,\", yaxis_tickformat=\".0%\", yaxis_range=[0, 1]\n",
    ")\n",
    "fig.show()"
   ]
  },
  {
   "cell_type": "markdown",
   "metadata": {},
   "source": [
    "### How housing costs affect a four-person household's SNAP allotments\n",
    "\n",
    "We can also visualize how other household characteristics affect SNAP allotments.\n",
    "For example, what if we vary the housing costs of a four-person household with \\$2,000 monthly income?\n",
    "\n",
    "Their normal SNAP allotment is \\$409 per month if their housing costs are less than \\$720 per month. If they spend \\$1,310 per month on housing, their normal allotment rises 44% to \\$588 per month.\n",
    "\n",
    "However, because their maximum allotment exceeds their normal allotment by at least \\$95 regardless of their housing costs, they will receive the maximum allotment regardless of housing costs as a result of the emergency allotment."
   ]
  },
  {
   "cell_type": "code",
   "execution_count": null,
   "metadata": {},
   "outputs": [],
   "source": [
    "sim_rent = IndividualSim(year=2022)\n",
    "sim_rent.add_person(name=\"parent1\", employment_income=1000 * 12)\n",
    "sim_rent.add_person(name=\"parent2\", employment_income=1000 * 12)\n",
    "sim_rent.add_person(name=\"child1\")\n",
    "sim_rent.add_person(name=\"child2\")\n",
    "sim_rent.add_spm_unit(\n",
    "    name=\"spm_unit\",\n",
    "    members=[\"parent1\", \"parent2\", \"child1\", \"child2\"],\n",
    ")\n",
    "\n",
    "sim_rent.vary(\"housing_cost\", max=2000 * 12, step=120)\n",
    "\n",
    "rent_df_full = pd.DataFrame(\n",
    "    dict(\n",
    "        allotment=\"Full\",\n",
    "        housing_cost=sim_rent.calc(\"housing_cost\")[0],\n",
    "        snap=sim_rent.calc(\"snap\")[0],\n",
    "        housing_subsidy_rate=sim_rent.deriv(\"snap\", \"housing_cost\"),\n",
    "    )\n",
    ")\n",
    "rent_df_normal = pd.DataFrame(\n",
    "    dict(\n",
    "        allotment=\"Normal\",\n",
    "        housing_cost=sim_rent.calc(\"housing_cost\")[0],\n",
    "        snap=sim_rent.calc(\"snap_normal_allotment\")[0],\n",
    "        housing_subsidy_rate=sim_rent.deriv(\n",
    "            \"snap_normal_allotment\", \"housing_cost\"\n",
    "        ),\n",
    "    )\n",
    ")\n",
    "rent_df = pd.concat([rent_df_full, rent_df_normal])\n",
    "rent_df[[\"housing_cost\", \"snap\"]] = (\n",
    "    rent_df[[\"housing_cost\", \"snap\"]] / 12\n",
    ").round()\n",
    "\n",
    "fig = px.line(\n",
    "    rent_df,\n",
    "    \"housing_cost\",\n",
    "    \"snap\",\n",
    "    color=\"allotment\",\n",
    "    labels=LABELS,\n",
    "    title=\"SNAP allotment for a four-person household in California with $1,000 monthly earnings\",\n",
    ")\n",
    "fig.update_layout(\n",
    "    xaxis_tickformat=\"$,\",\n",
    "    yaxis_tickformat=\"$,\",\n",
    "    yaxis_range=[0, rent_df.snap.max() * 1.1],\n",
    ")\n",
    "fig.show()"
   ]
  },
  {
   "cell_type": "markdown",
   "metadata": {},
   "source": [
    "As before, we can also see the rate at which SNAP increases with housing costs.\n",
    "For this household, the normal SNAP allotment subsidizes housing costs at a rate of 30% for housing costs ranging from \\$720 to \\$1,310 per month.\n",
    "The emergency allotment nullifies this effect."
   ]
  },
  {
   "cell_type": "code",
   "execution_count": null,
   "metadata": {},
   "outputs": [],
   "source": [
    "fig = px.line(\n",
    "    rent_df,\n",
    "    \"housing_cost\",\n",
    "    \"housing_subsidy_rate\",\n",
    "    color=\"allotment\",\n",
    "    labels=LABELS,\n",
    "    title=\"SNAP housing subsidy rate for a one-person household in California with $1,000 monthly earnings\",\n",
    ")\n",
    "fig.update_layout(xaxis_tickformat=\"$,\", yaxis_tickformat=\".0%\")\n",
    "fig.show()"
   ]
  },
  {
   "cell_type": "markdown",
   "metadata": {},
   "source": [
    "### How unearned income compares to earned income\n",
    "\n",
    "SNAP exempts 20% of earned income from net income calculations.\n",
    "This earned income deduction does not apply to unearned income, such as Social Security, unemployment allotments, interest, and dividends.\n",
    "\n",
    "To illustrate the effect of this provision, let's return to the first example of a single person with \\$1,000 monthly income and \\$600 monthly rent.\n",
    "When their income was earned, they received a normal allotment of \\$145, plus a \\$105 emergency allotment to bring them to the one-person maximum of \\$250.\n",
    "If their income is unearned, for example if it's from dividends, their normal allotment falls to \\$55, though the emergency allotment fills the gap, bringing their total allotment again to \\$250."
   ]
  },
  {
   "cell_type": "code",
   "execution_count": null,
   "metadata": {},
   "outputs": [],
   "source": [
    "sim_div = IndividualSim(year=2022)\n",
    "sim_div.add_person(name=\"person\", dividend_income=1000 * 12)\n",
    "sim_div.add_spm_unit(\n",
    "    name=\"spm_unit\", members=[\"person\"], housing_cost=600 * 12\n",
    ")\n",
    "\n",
    "print(\n",
    "    \"SNAP normal allotment: \",\n",
    "    round(sim_div.calc(\"snap_normal_allotment\")[0] / 12),\n",
    ")\n",
    "print(\n",
    "    \"SNAP emergency allotment: \",\n",
    "    round(sim_div.calc(\"snap_emergency_allotment\")[0] / 12),\n",
    ")\n",
    "print(\"Total SNAP: \", round(sim_div.calc(\"snap\")[0] / 12))"
   ]
  },
  {
   "cell_type": "markdown",
   "metadata": {},
   "source": [
    "As a result of the earned income deduction, this household will have a larger SNAP benefit if their income comes from employment, if their monthly income is between \\$570 and \\$980."
   ]
  },
  {
   "cell_type": "code",
   "execution_count": null,
   "metadata": {},
   "outputs": [],
   "source": [
    "sim_div.vary(\"dividend_income\", max=2500 * 12, step=120)\n",
    "\n",
    "div_df_full = pd.DataFrame(\n",
    "    dict(\n",
    "        dividend_income=sim_div.calc(\"dividend_income\")[0],\n",
    "        allotment=\"Full\",\n",
    "        snap=sim_div.calc(\"snap\")[0],\n",
    "        mtr=-sim_div.deriv(\"snap\", \"dividend_income\"),\n",
    "    )\n",
    ")\n",
    "div_df_normal = pd.DataFrame(\n",
    "    dict(\n",
    "        dividend_income=sim_div.calc(\"dividend_income\")[0],\n",
    "        allotment=\"Normal\",\n",
    "        snap=sim_div.calc(\"snap_normal_allotment\")[0],\n",
    "        mtr=-sim_div.deriv(\"snap_normal_allotment\", \"dividend_income\"),\n",
    "    )\n",
    ")\n",
    "div_df = pd.concat([div_df_full, div_df_normal])\n",
    "div_df[[\"dividend_income\", \"snap\"]] = (\n",
    "    div_df[[\"dividend_income\", \"snap\"]] / 12\n",
    ").round()\n",
    "\n",
    "# Combine employment and dividend income DataFrames.\n",
    "emp_df[\"income_source\"] = \"Earned\"\n",
    "div_df[\"income_source\"] = \"Unearned\"\n",
    "emp_div_df = pd.concat(\n",
    "    [\n",
    "        emp_df.rename(columns=dict(employment_income=\"income\")),\n",
    "        div_df.rename(columns=dict(dividend_income=\"income\")),\n",
    "    ]\n",
    ")\n",
    "\n",
    "fig = px.line(\n",
    "    emp_div_df[emp_div_df.allotment == \"Full\"],\n",
    "    \"income\",\n",
    "    \"snap\",\n",
    "    color=\"income_source\",\n",
    "    labels=LABELS,\n",
    "    title=\"Full SNAP allotment for a one-person household in California with $600 monthly housing costs\",\n",
    ")\n",
    "fig.update_layout(xaxis_tickformat=\"$,\", yaxis_tickformat=\"$,\")\n",
    "fig.show()"
   ]
  },
  {
   "cell_type": "markdown",
   "metadata": {},
   "source": [
    "While the SNAP marginal tax rate is 36% for employment income between \\$710 and \\$960, it is 45% for dividend income between \\$570 and \\$760."
   ]
  },
  {
   "cell_type": "code",
   "execution_count": null,
   "metadata": {},
   "outputs": [],
   "source": [
    "fig = px.line(\n",
    "    emp_div_df[emp_div_df.allotment == \"Full\"],\n",
    "    \"income\",\n",
    "    \"mtr\",\n",
    "    color=\"income_source\",\n",
    "    labels=LABELS,\n",
    "    title=\"Full SNAP marginal tax rate for a one-person household in California with $600 monthly housing costs\",\n",
    ")\n",
    "fig.update_layout(\n",
    "    xaxis_tickformat=\"$,\", yaxis_tickformat=\".0%\", yaxis_range=[0, 1]\n",
    ")\n",
    "fig.show()"
   ]
  },
  {
   "cell_type": "markdown",
   "metadata": {},
   "source": [
    "In the absence of the emergency allotment, SNAP allotments differ between earned and unearned income over larger income ranges."
   ]
  },
  {
   "cell_type": "code",
   "execution_count": null,
   "metadata": {},
   "outputs": [],
   "source": [
    "fig = px.line(\n",
    "    emp_div_df[emp_div_df.allotment == \"Normal\"],\n",
    "    \"income\",\n",
    "    \"snap\",\n",
    "    color=\"income_source\",\n",
    "    labels=LABELS,\n",
    "    title=\"Normal SNAP allotment for a one-person household in California with $600 monthly housing costs\",\n",
    ")\n",
    "fig.update_layout(xaxis_tickformat=\"$,\", yaxis_tickformat=\"$,\")\n",
    "fig.show()"
   ]
  },
  {
   "cell_type": "markdown",
   "metadata": {},
   "source": [
    "Without emergency allotments, the marginal tax rates remain at 36% and 45% for earned and unearned income, respectively, over larger income ranges."
   ]
  },
  {
   "cell_type": "code",
   "execution_count": null,
   "metadata": {},
   "outputs": [],
   "source": [
    "fig = px.line(\n",
    "    emp_div_df[emp_div_df.allotment == \"Normal\"],\n",
    "    \"income\",\n",
    "    \"mtr\",\n",
    "    color=\"income_source\",\n",
    "    labels=LABELS,\n",
    "    title=\"Normal SNAP marginal tax rate for a one-person household in California with $600 monthly housing costs\",\n",
    ")\n",
    "fig.update_layout(\n",
    "    xaxis_tickformat=\"$,\", yaxis_tickformat=\".0%\", yaxis_range=[0, 1]\n",
    ")\n",
    "fig.show()"
   ]
  }
 ],
 "metadata": {
  "interpreter": {
   "hash": "8dfc7b25af29ff50af05ad7ef5344155df419318e539ca710572e6dd4f9023a3"
  },
  "kernelspec": {
   "display_name": "Python 3 (ipykernel)",
   "language": "python",
   "name": "python3"
  },
  "language_info": {
   "codemirror_mode": {
    "name": "ipython",
    "version": 3
   },
   "file_extension": ".py",
   "mimetype": "text/x-python",
   "name": "python",
   "nbconvert_exporter": "python",
   "pygments_lexer": "ipython3",
   "version": "3.7.11"
  }
 },
 "nbformat": 4,
 "nbformat_minor": 4
}
