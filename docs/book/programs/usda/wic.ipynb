{
 "cells": [
  {
   "cell_type": "markdown",
   "metadata": {},
   "source": [
    "# WIC\n",
    "\n",
    "The Special Supplemental Nutrition Program for Women, Infants, and Children (WIC) provides vouchers for food and formula to low-income mothers and children deemed to be at nutritional risk.\n",
    "The Food and Nutrition Service (FNS), a division of the United States Department of Agriculture (USDA), administers WIC.\n",
    "\n",
    "## Examples\n",
    "\n",
    "Consider a family with a breastfeeding mother and a child, both deemed to be at nutritional risk, and \\$2,000 monthly income.\n",
    "They will receive WIC vouchers until the child reaches age five, though their benefit will vary with the child's age: \\$176 per month until the child reaches age one, then \\$32 per month."
   ]
  },
  {
   "cell_type": "code",
   "execution_count": 6,
   "metadata": {},
   "outputs": [
    {
     "data": {
      "text/plain": [
       "176"
      ]
     },
     "execution_count": 6,
     "metadata": {},
     "output_type": "execute_result"
    }
   ],
   "source": [
    "from openfisca_us import IndividualSim\n",
    "import pandas as pd\n",
    "import plotly.express as px\n",
    "\n",
    "sim = IndividualSim(year=2022)\n",
    "sim.add_person(\n",
    "    name=\"mother\",\n",
    "    employment_income=2_000 * 12,\n",
    "    is_mother=True,\n",
    "    is_breastfeeding=True,\n",
    "    is_wic_at_nutritional_risk=True,\n",
    ")\n",
    "sim.add_person(name=\"child\", age=0.9, is_wic_at_nutritional_risk=True)\n",
    "sim.add_family(members=[\"mother\", \"child\"])\n",
    "sim.add_spm_unit(members=[\"mother\", \"child\"])\n",
    "\n",
    "round(sim.calc(\"wic\").sum() / 12)"
   ]
  },
  {
   "cell_type": "code",
   "execution_count": 7,
   "metadata": {},
   "outputs": [
    {
     "data": {
      "text/plain": [
       "32"
      ]
     },
     "execution_count": 7,
     "metadata": {},
     "output_type": "execute_result"
    }
   ],
   "source": [
    "sim = IndividualSim(year=2022)\n",
    "sim.add_person(\n",
    "    name=\"mother\",\n",
    "    employment_income=2_000 * 12,\n",
    "    is_mother=True,\n",
    "    is_breastfeeding=True,\n",
    "    is_wic_at_nutritional_risk=True,\n",
    ")\n",
    "sim.add_person(name=\"child\", age=4, is_wic_at_nutritional_risk=True)\n",
    "sim.add_family(members=[\"mother\", \"child\"])\n",
    "sim.add_spm_unit(members=[\"mother\", \"child\"])\n",
    "\n",
    "round(sim.calc(\"wic\").sum() / 12)"
   ]
  },
  {
   "cell_type": "code",
   "execution_count": null,
   "metadata": {},
   "outputs": [],
   "source": []
  }
 ],
 "metadata": {
  "interpreter": {
   "hash": "8dfc7b25af29ff50af05ad7ef5344155df419318e539ca710572e6dd4f9023a3"
  },
  "kernelspec": {
   "display_name": "Python 3 (ipykernel)",
   "language": "python",
   "name": "python3"
  },
  "language_info": {
   "codemirror_mode": {
    "name": "ipython",
    "version": 3
   },
   "file_extension": ".py",
   "mimetype": "text/x-python",
   "name": "python",
   "nbconvert_exporter": "python",
   "pygments_lexer": "ipython3",
   "version": "3.7.11"
  }
 },
 "nbformat": 4,
 "nbformat_minor": 4
}
