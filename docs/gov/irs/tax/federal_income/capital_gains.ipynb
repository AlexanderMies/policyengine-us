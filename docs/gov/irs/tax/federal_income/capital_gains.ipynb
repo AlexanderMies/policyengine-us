{
 "cells": [
  {
   "cell_type": "markdown",
   "id": "d9c40ae0-29ec-47ac-81a3-cf9da431b976",
   "metadata": {},
   "source": [
    "# Capital Gains Tax\n",
    "\n",
    "Long-term capital gains (and qualified dividends) are taxed at lower rates than ordinary income."
   ]
  },
  {
   "cell_type": "code",
   "execution_count": null,
   "id": "b98bd687-4fb4-44bb-8d6b-453c8bbd9067",
   "metadata": {
    "tags": [
     "hide-input"
    ]
   },
   "outputs": [],
   "source": [
    "from openfisca_us import IndividualSim\n",
    "import plotly.express as px\n",
    "import pandas as pd\n",
    "\n",
    "sim = IndividualSim()\n",
    "\n",
    "sim.add_person(age=30, name=\"person\")\n",
    "sim.add_household(members=[\"person\"], zip_code=\"01001\")\n",
    "\n",
    "sim.vary(\"long_term_capital_gains\", max=1_000_000)\n",
    "\n",
    "df = pd.DataFrame({\n",
    "    \"Long-term capital gains\": sim.calc(\"long_term_capital_gains\")[0],\n",
    "    \"Marginal capital gains rate\": sim.deriv(\"capital_gains_tax\", wrt=\"long_term_capital_gains\"),\n",
    "})\n",
    "\n",
    "px.line(df, y=\"Marginal capital gains rate\", x=\"Long-term capital gains\").update_layout(\n",
    "    title=\"Marginal capital gains rate by long-term capital gains income\",\n",
    "    yaxis_tickformat=\".0%\",\n",
    "    xaxis_tickformat=\"$,\",\n",
    ")"
   ]
  }
 ],
 "metadata": {
  "kernelspec": {
   "display_name": "Python 3 (ipykernel)",
   "language": "python",
   "name": "python3"
  },
  "language_info": {
   "codemirror_mode": {
    "name": "ipython",
    "version": 3
   },
   "file_extension": ".py",
   "mimetype": "text/x-python",
   "name": "python",
   "nbconvert_exporter": "python",
   "pygments_lexer": "ipython3",
   "version": "3.7.11"
  }
 },
 "nbformat": 4,
 "nbformat_minor": 5
}
